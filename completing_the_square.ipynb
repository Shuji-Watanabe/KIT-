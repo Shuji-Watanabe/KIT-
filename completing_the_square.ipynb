{
 "cells": [
  {
   "cell_type": "code",
   "execution_count": 26,
   "metadata": {},
   "outputs": [],
   "source": [
    "from sympy import *\n",
    "init_printing()\n",
    "from IPython.display import Math,YouTubeVideo\n",
    "from sympy.solvers import solve\n",
    "from ipywidgets import interact\n",
    "# インタラクティブ画面が出ない場合　：　「jupyter nbextension enable --py widgetsnbextension」をターミナル等で一度実行．\n",
    "# Try jupyter[https://jupyter.org/try]上では問題なく動作．"
   ]
  },
  {
   "cell_type": "code",
   "execution_count": 27,
   "metadata": {},
   "outputs": [
    {
     "data": {
      "text/html": [
       "\n",
       "<button id=\"code-show-switch-btn\">スクリプトを表示する</button>\n",
       "\n",
       "<script>\n",
       "var code_show = true;\n",
       "$(\"div.input\").hide();\n",
       "\n",
       "function switch_display_setting() {\n",
       "    var switch_btn = $(\"#code-show-switch-btn\");\n",
       "    if (code_show) {\n",
       "        $(\"div.input\").hide();\n",
       "        code_show = false;\n",
       "        switch_btn.text(\"スクリプトを表示する\");\n",
       "    }else{\n",
       "        $(\"div.input\").show();\n",
       "        code_show = true;\n",
       "        switch_btn.text(\"スクリプトを非表示にする\");\n",
       "    }\n",
       "}\n",
       "\n",
       "$(\"#code-show-switch-btn\").click(switch_display_setting);\n",
       "</script>\n"
      ],
      "text/plain": [
       "<IPython.core.display.HTML object>"
      ]
     },
     "execution_count": 27,
     "metadata": {},
     "output_type": "execute_result"
    }
   ],
   "source": [
    "#スクリプト部分の表示制御\n",
    "#https://qiita.com/simonritchie/items/d7dccb798f0b9c8b1ec5\n",
    "#の記事を用いて作成しました．大変有り難うございます．\n",
    "\n",
    "from IPython.display import HTML\n",
    "\n",
    "HTML(\"\"\"\n",
    "<button id=\"code-show-switch-btn\">スクリプトを表示する</button>\n",
    "\n",
    "<script>\n",
    "var code_show = true;\n",
    "$(\"div.input\").hide();\n",
    "\n",
    "function switch_display_setting() {\n",
    "    var switch_btn = $(\"#code-show-switch-btn\");\n",
    "    if (code_show) {\n",
    "        $(\"div.input\").hide();\n",
    "        code_show = false;\n",
    "        switch_btn.text(\"スクリプトを表示する\");\n",
    "    }else{\n",
    "        $(\"div.input\").show();\n",
    "        code_show = true;\n",
    "        switch_btn.text(\"スクリプトを非表示にする\");\n",
    "    }\n",
    "}\n",
    "\n",
    "$(\"#code-show-switch-btn\").click(switch_display_setting);\n",
    "</script>\n",
    "\"\"\")"
   ]
  },
  {
   "cell_type": "markdown",
   "metadata": {},
   "source": [
    "２次関数の平方完成を実行するプログラムです。\n",
    "\n",
    "fの右にあるボックスへxについての２次関数を入力してください。"
   ]
  },
  {
   "cell_type": "code",
   "execution_count": 48,
   "metadata": {},
   "outputs": [
    {
     "data": {
      "application/vnd.jupyter.widget-view+json": {
       "model_id": "1f4c26277c084cee81f5be185eee9d30",
       "version_major": 2,
       "version_minor": 0
      },
      "text/plain": [
       "interactive(children=(Text(value='1', description='a'), Text(value='2', description='b'), Text(value='3', desc…"
      ]
     },
     "metadata": {},
     "output_type": "display_data"
    }
   ],
   "source": [
    "x,y,a,b,c = symbols('x y a b c')\n",
    "f, g ,h= symbols('f g h', cls=Function)\n",
    "\n",
    "@interact( a='1',b='2',c='3')\n",
    "def f( a,b,c):\n",
    "    a = sympify(a)\n",
    "    b = sympify(b)\n",
    "    c = sympify(c)\n",
    "    f = a*x**2 +  b*x + c\n",
    "    g= a*(x+b/(2*a))**2 + (b**2 - 4*a*c)/(4*a**2)\n",
    "    display( Math(r' y=%sを平方完成した式：y=%s' % ( latex(f ),latex(g))))      "
   ]
  },
  {
   "cell_type": "code",
   "execution_count": null,
   "metadata": {},
   "outputs": [],
   "source": []
  },
  {
   "cell_type": "code",
   "execution_count": null,
   "metadata": {},
   "outputs": [],
   "source": []
  }
 ],
 "metadata": {
  "kernelspec": {
   "display_name": "Python 3",
   "language": "python",
   "name": "python3"
  },
  "language_info": {
   "codemirror_mode": {
    "name": "ipython",
    "version": 3
   },
   "file_extension": ".py",
   "mimetype": "text/x-python",
   "name": "python",
   "nbconvert_exporter": "python",
   "pygments_lexer": "ipython3",
   "version": "3.7.4"
  }
 },
 "nbformat": 4,
 "nbformat_minor": 2
}
