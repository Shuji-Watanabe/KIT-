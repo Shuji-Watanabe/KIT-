{
 "cells": [
  {
   "cell_type": "code",
   "execution_count": 1,
   "metadata": {
    "scrolled": true
   },
   "outputs": [
    {
     "data": {
      "text/html": [
       "\n",
       "<button id=\"code-show-switch-btn\">スクリプトを表示する</button>\n",
       "\n",
       "<script>\n",
       "var code_show = true;\n",
       "$(\"div.input\").hide();\n",
       "\n",
       "function switch_display_setting() {\n",
       "    var switch_btn = $(\"#code-show-switch-btn\");\n",
       "    if (code_show) {\n",
       "        $(\"div.input\").hide();\n",
       "        code_show = false;\n",
       "        switch_btn.text(\"スクリプトを表示する\");\n",
       "    }else{\n",
       "        $(\"div.input\").show();\n",
       "        code_show = true;\n",
       "        switch_btn.text(\"スクリプトを非表示にする\");\n",
       "    }\n",
       "}\n",
       "\n",
       "$(\"#code-show-switch-btn\").click(switch_display_setting);\n",
       "</script>\n"
      ],
      "text/plain": [
       "<IPython.core.display.HTML object>"
      ]
     },
     "execution_count": 1,
     "metadata": {},
     "output_type": "execute_result"
    }
   ],
   "source": [
    "#スクリプト部分の表示制御\n",
    "#https://qiita.com/simonritchie/items/d7dccb798f0b9c8b1ec5\n",
    "#の記事を用いて作成しました．大変有り難うございます．\n",
    "\n",
    "from IPython.display import HTML\n",
    "\n",
    "HTML(\"\"\"\n",
    "<button id=\"code-show-switch-btn\">スクリプトを表示する</button>\n",
    "\n",
    "<script>\n",
    "var code_show = true;\n",
    "$(\"div.input\").hide();\n",
    "\n",
    "function switch_display_setting() {\n",
    "    var switch_btn = $(\"#code-show-switch-btn\");\n",
    "    if (code_show) {\n",
    "        $(\"div.input\").hide();\n",
    "        code_show = false;\n",
    "        switch_btn.text(\"スクリプトを表示する\");\n",
    "    }else{\n",
    "        $(\"div.input\").show();\n",
    "        code_show = true;\n",
    "        switch_btn.text(\"スクリプトを非表示にする\");\n",
    "    }\n",
    "}\n",
    "\n",
    "$(\"#code-show-switch-btn\").click(switch_display_setting);\n",
    "</script>\n",
    "\"\"\")"
   ]
  },
  {
   "cell_type": "code",
   "execution_count": 2,
   "metadata": {},
   "outputs": [
    {
     "data": {
      "text/plain": [
       "<Figure size 640x480 with 1 Axes>"
      ]
     },
     "metadata": {},
     "output_type": "display_data"
    }
   ],
   "source": [
    "import pylab as plt\n",
    "import numpy as np  \n",
    "    \n",
    "ax = plt.gca()  # gca stands for 'get current axis'\n",
    "ax.spines['right'].set_color('none')\n",
    "ax.spines['top'].set_color('none')\n",
    "ax.xaxis.set_ticks_position('bottom')\n",
    "ax.spines['bottom'].set_position(('data',0))\n",
    "ax.yaxis.set_ticks_position('left')\n",
    "ax.spines['left'].set_position(('data',0))\n",
    "#plt.xlabel(\"x\")\n",
    "#plt.ylabel(\"f(x)\")\n",
    "#plt.grid(True)\n",
    "\n",
    "for label in ax.get_xticklabels() + ax.get_yticklabels():\n",
    "    label.set_fontsize(16)\n",
    "    label.set_bbox(dict(facecolor='white', edgecolor='None', alpha=0.65))  \n",
    "\n",
    "#Axis\n",
    "plt.axis('scaled')   \n",
    "plt.yticks(color=\"None\")\n",
    "a0=4.0\n",
    "plt.ylim(-a0,a0)\n",
    "plt.yticks(np.arange(-a0, a0, 1.0)) \n",
    "plt.xlim(-a0,a0)\n",
    "plt.xticks(np.arange(-a0, a0, 1.0)) \n",
    "\n",
    "\n",
    "#Main graph\n",
    "xmin=0; xmax=np.pi; npoints=100\n",
    "delta=(xmax-xmin)/npoints\n",
    "x=np.arange(xmin,xmax,delta)\n",
    "y=np.cos(x)\n",
    "plt.plot(x,y,'r',lw=3)\n",
    "#plt.title(\"y=cos(x)\")\n",
    "\n",
    "#Sub graph1\n",
    "xmin=-2*np.pi ; xmax= 0; npoints=100\n",
    "delta=(xmax-xmin)/npoints\n",
    "x=np.arange(xmin,xmax,delta)\n",
    "y=np.cos(x)\n",
    "plt.plot(x,y,'b',lw=3)\n",
    "\n",
    "#Sub graph1\n",
    "xmin=np.pi ; xmax= 2*np.pi; npoints=100\n",
    "delta=(xmax-xmin)/npoints\n",
    "x=np.arange(xmin,xmax,delta)\n",
    "y=np.cos(x)\n",
    "plt.plot(x,y,'b',lw=3)\n",
    "\n",
    "#Range\n",
    "ax.axhline(1, ls = \"--\", color = \"gray\")\n",
    "ax.axhline(-1, ls = \"--\", color = \"gray\")\n",
    "\n",
    "\n",
    "\n",
    "\n",
    "\n",
    "#plt.savefig('figure.png')\n",
    "plt.show()"
   ]
  },
  {
   "cell_type": "code",
   "execution_count": 3,
   "metadata": {},
   "outputs": [
    {
     "name": "stderr",
     "output_type": "stream",
     "text": [
      "findfont: Font family ['IPAexGothic'] not found. Falling back to DejaVu Sans.\n"
     ]
    },
    {
     "data": {
      "image/png": "[encoded data removed]",
      "text/plain": [
       "<Figure size 432x288 with 1 Axes>"
      ]
     },
     "metadata": {
      "needs_background": "light"
     },
     "output_type": "display_data"
    }
   ],
   "source": [
    "import pylab as plt\n",
    "import numpy as np\n",
    "\n",
    "ax = plt.gca()  # gca stands for 'get current axis'\n",
    "ax.spines['right'].set_color('none')\n",
    "ax.spines['top'].set_color('none')\n",
    "ax.xaxis.set_ticks_position('bottom')\n",
    "ax.spines['bottom'].set_position(('data',0))\n",
    "ax.yaxis.set_ticks_position('left')\n",
    "ax.spines['left'].set_position(('data',0))\n",
    "#plt.xlabel(\"x\")\n",
    "#plt.ylabel(\"f(x)\")\n",
    "#plt.grid(True)\n",
    "\n",
    "for label in ax.get_xticklabels() + ax.get_yticklabels():\n",
    "    label.set_fontsize(16)\n",
    "    label.set_bbox(dict(facecolor='white', edgecolor='None', alpha=0.65))  \n",
    "\n",
    "#Axis\n",
    "plt.axis('scaled')   \n",
    "plt.yticks(color=\"None\")\n",
    "a0=4.0\n",
    "plt.ylim(-a0,a0)\n",
    "plt.yticks(np.arange(-a0, a0, 1.0)) \n",
    "plt.xlim(-a0,a0)\n",
    "plt.xticks(np.arange(-a0, a0, 1.0)) \n",
    "\n",
    "\n",
    "#Main graph\n",
    "xmin=-1; xmax=1; npoints=500\n",
    "delta=(xmax-xmin)/npoints\n",
    "x=np.arange(xmin,xmax,delta)\n",
    "y=np.arccos(x)\n",
    "plt.plot(x,y,'green',lw=3)\n",
    "\n",
    "#Old Main graph1\n",
    "#xmin=0; xmax=np.pi; npoints=100\n",
    "#delta=(xmax-xmin)/npoints\n",
    "#x=np.arange(xmin,xmax,delta)\n",
    "#y=np.cos(x)\n",
    "#plt.plot(x,y,'red',ls = \":\",lw=2)\n",
    "\n",
    "#Old Main graph2\n",
    "#xmin=-a0; xmax=a0; npoints=100\n",
    "#delta=(xmax-xmin)/npoints\n",
    "#x=np.arange(xmin,xmax,delta)\n",
    "#y=x\n",
    "#plt.plot(x,y,'gray',lw=1)\n",
    "\n",
    "\n",
    "\n",
    "\n",
    "#Range\n",
    "ax.axhline(np.pi, ls = \"--\", color = \"gray\")\n",
    "\n",
    "\n",
    "\n",
    "#plt.savefig('figure.png')\n",
    "plt.show()"
   ]
  },
  {
   "cell_type": "code",
   "execution_count": 4,
   "metadata": {},
   "outputs": [
    {
     "name": "stderr",
     "output_type": "stream",
     "text": [
      "findfont: Font family ['IPAexGothic'] not found. Falling back to DejaVu Sans.\n"
     ]
    },
    {
     "data": {
      "image/png": "[encoded data removed]",
      "text/plain": [
       "<Figure size 432x288 with 1 Axes>"
      ]
     },
     "metadata": {
      "needs_background": "light"
     },
     "output_type": "display_data"
    }
   ],
   "source": [
    "import pylab as plt\n",
    "import numpy as np\n",
    "\n",
    "\n",
    "\n",
    "for label in ax.get_xticklabels() + ax.get_yticklabels():\n",
    "    label.set_fontsize(16)\n",
    "    label.set_bbox(dict(facecolor='white', edgecolor='None', alpha=0.65))    \n",
    "    \n",
    "ax = plt.gca()  # gca stands for 'get current axis'\n",
    "ax.spines['right'].set_color('none')\n",
    "ax.spines['top'].set_color('none')\n",
    "ax.xaxis.set_ticks_position('bottom')\n",
    "ax.spines['bottom'].set_position(('data',0))\n",
    "ax.yaxis.set_ticks_position('left')\n",
    "ax.spines['left'].set_position(('data',0))\n",
    "#plt.xlabel(\"x\")\n",
    "#plt.ylabel(\"f(x)\")\n",
    "#plt.grid(True)\n",
    "\n",
    "#Axis\n",
    "plt.axis('scaled')   \n",
    "plt.yticks(color=\"None\")\n",
    "a0=4.0\n",
    "plt.ylim(-a0,a0)\n",
    "plt.yticks(np.arange(-a0, a0, 1.0)) \n",
    "plt.xlim(-a0,a0)\n",
    "plt.xticks(np.arange(-a0, a0, 1.0)) \n",
    "\n",
    "\n",
    "#Main graph\n",
    "xmin=-0.5*np.pi; xmax=0.5*np.pi; npoints=100\n",
    "delta=(xmax-xmin)/npoints\n",
    "x=np.arange(xmin,xmax,delta)\n",
    "y=np.sin(x)\n",
    "plt.plot(x,y,'r',lw=3)\n",
    "#plt.title(\"y=cos(x)\")\n",
    "\n",
    "#Sub graph1\n",
    "xmin=-a0 ; xmax=-0.5*np.pi; npoints=100\n",
    "delta=(xmax-xmin)/npoints\n",
    "x=np.arange(xmin,xmax,delta)\n",
    "y=np.sin(x)\n",
    "plt.plot(x,y,'b',lw=3)\n",
    "\n",
    "#Sub graph1\n",
    "xmin=0.5*np.pi ; xmax= a0; npoints=100\n",
    "delta=(xmax-xmin)/npoints\n",
    "x=np.arange(xmin,xmax,delta)\n",
    "y=np.sin(x)\n",
    "plt.plot(x,y,'b',lw=3)\n",
    "\n",
    "#Range\n",
    "ax.axhline(1, ls = \"--\", color = \"gray\")\n",
    "ax.axhline(-1, ls = \"--\", color = \"gray\")\n",
    "\n",
    "\n",
    "\n",
    "\n",
    "\n",
    "#plt.savefig('figure.png')\n",
    "plt.show()"
   ]
  },
  {
   "cell_type": "code",
   "execution_count": 5,
   "metadata": {},
   "outputs": [
    {
     "name": "stderr",
     "output_type": "stream",
     "text": [
      "findfont: Font family ['IPAexGothic'] not found. Falling back to DejaVu Sans.\n"
     ]
    },
    {
     "data": {
      "image/png": "[encoded data removed]",
      "text/plain": [
       "<Figure size 432x288 with 1 Axes>"
      ]
     },
     "metadata": {
      "needs_background": "light"
     },
     "output_type": "display_data"
    }
   ],
   "source": [
    "import pylab as plt\n",
    "import numpy as np\n",
    "\n",
    "\n",
    "\n",
    "for label in ax.get_xticklabels() + ax.get_yticklabels():\n",
    "    label.set_fontsize(16)\n",
    "    label.set_bbox(dict(facecolor='white', edgecolor='None', alpha=0.65))    \n",
    "    \n",
    "ax = plt.gca()  # gca stands for 'get current axis'\n",
    "ax.spines['right'].set_color('none')\n",
    "ax.spines['top'].set_color('none')\n",
    "ax.xaxis.set_ticks_position('bottom')\n",
    "ax.spines['bottom'].set_position(('data',0))\n",
    "ax.yaxis.set_ticks_position('left')\n",
    "ax.spines['left'].set_position(('data',0))\n",
    "#plt.xlabel(\"x\")\n",
    "#plt.ylabel(\"f(x)\")\n",
    "#plt.grid(True)\n",
    "\n",
    "#Axis\n",
    "plt.axis('scaled')   \n",
    "plt.yticks(color=\"None\")\n",
    "a0=4.0\n",
    "plt.ylim(-a0,a0)\n",
    "plt.yticks(np.arange(-a0, a0, 1.0)) \n",
    "plt.xlim(-a0,a0)\n",
    "plt.xticks(np.arange(-a0, a0, 1.0)) \n",
    "\n",
    "\n",
    "#Main graph\n",
    "xmin=-1; xmax=1; npoints=500\n",
    "delta=(xmax-xmin)/npoints\n",
    "x=np.arange(xmin,xmax,delta)\n",
    "y=np.arcsin(x)\n",
    "plt.plot(x,y,'green',lw=3)\n",
    "\n",
    "\n",
    "#Range\n",
    "ax.axhline(0.5*np.pi, ls = \"--\", color = \"gray\")\n",
    "ax.axhline(-0.5*np.pi, ls = \"--\", color = \"gray\")\n",
    "\n",
    "\n",
    "#plt.savefig('figure.png')\n",
    "plt.show()"
   ]
  },
  {
   "cell_type": "code",
   "execution_count": 6,
   "metadata": {},
   "outputs": [
    {
     "name": "stderr",
     "output_type": "stream",
     "text": [
      "findfont: Font family ['IPAexGothic'] not found. Falling back to DejaVu Sans.\n"
     ]
    },
    {
     "data": {
      "image/png": "[encoded data removed]",
      "text/plain": [
       "<Figure size 432x288 with 1 Axes>"
      ]
     },
     "metadata": {
      "needs_background": "light"
     },
     "output_type": "display_data"
    }
   ],
   "source": [
    "import pylab as plt\n",
    "import numpy as np\n",
    "\n",
    "\n",
    "\n",
    "for label in ax.get_xticklabels() + ax.get_yticklabels():\n",
    "    label.set_fontsize(16)\n",
    "    label.set_bbox(dict(facecolor='white', edgecolor='None', alpha=0.65))    \n",
    "    \n",
    "ax = plt.gca()  # gca stands for 'get current axis'\n",
    "ax.spines['right'].set_color('none')\n",
    "ax.spines['top'].set_color('none')\n",
    "ax.xaxis.set_ticks_position('bottom')\n",
    "ax.spines['bottom'].set_position(('data',0))\n",
    "ax.yaxis.set_ticks_position('left')\n",
    "ax.spines['left'].set_position(('data',0))\n",
    "#plt.xlabel(\"x\")\n",
    "#plt.ylabel(\"f(x)\")\n",
    "#plt.grid(True)\n",
    "\n",
    "#Axis\n",
    "plt.axis('scaled')   \n",
    "plt.yticks(color=\"None\")\n",
    "a0=4.0\n",
    "plt.ylim(-a0,a0)\n",
    "plt.yticks(np.arange(-a0, a0, 1.0)) \n",
    "plt.xlim(-a0,a0)\n",
    "plt.xticks(np.arange(-a0, a0, 1.0)) \n",
    "\n",
    "\n",
    "d=0.001\n",
    "#Main graph\n",
    "xmin=-0.5*np.pi+d; xmax=0.5*np.pi-d; npoints=500\n",
    "delta=(xmax-xmin)/npoints\n",
    "x=np.arange(xmin,xmax,delta)\n",
    "y=np.tan(x)\n",
    "plt.plot(x,y,'r',lw=3)\n",
    "\n",
    "#Sub graph1\n",
    "xmin=-a0+d ; xmax=-0.5*np.pi+d; npoints=500\n",
    "delta=(xmax-xmin)/npoints\n",
    "x=np.arange(xmin,xmax,delta)\n",
    "y=np.tan(x)\n",
    "plt.plot(x,y,'b',lw=3)\n",
    "\n",
    "#Sub graph1\n",
    "xmin=0.5*np.pi+d ; xmax= a0; npoints=500\n",
    "delta=(xmax-xmin)/npoints\n",
    "x=np.arange(xmin,xmax,delta)\n",
    "y=np.tan(x)\n",
    "plt.plot(x,y,'b',lw=3)\n",
    "\n",
    "\n",
    "#Range\n",
    "ax.axvline(0.5*np.pi, ls = \"--\", color = \"gray\")\n",
    "ax.axvline(-0.5*np.pi, ls = \"--\", color = \"gray\")\n",
    "\n",
    "\n",
    "\n",
    "\n",
    "\n",
    "#plt.savefig('figure.png')\n",
    "plt.show()"
   ]
  },
  {
   "cell_type": "code",
   "execution_count": 7,
   "metadata": {},
   "outputs": [
    {
     "name": "stderr",
     "output_type": "stream",
     "text": [
      "findfont: Font family ['IPAexGothic'] not found. Falling back to DejaVu Sans.\n"
     ]
    },
    {
     "data": {
      "image/png": "[encoded data removed]",
      "text/plain": [
       "<Figure size 432x288 with 1 Axes>"
      ]
     },
     "metadata": {
      "needs_background": "light"
     },
     "output_type": "display_data"
    }
   ],
   "source": [
    "import pylab as plt\n",
    "import numpy as np\n",
    "\n",
    "\n",
    "\n",
    "for label in ax.get_xticklabels() + ax.get_yticklabels():\n",
    "    label.set_fontsize(16)\n",
    "    label.set_bbox(dict(facecolor='white', edgecolor='None', alpha=0.65))    \n",
    "    \n",
    "ax = plt.gca()  # gca stands for 'get current axis'\n",
    "ax.spines['right'].set_color('none')\n",
    "ax.spines['top'].set_color('none')\n",
    "ax.xaxis.set_ticks_position('bottom')\n",
    "ax.spines['bottom'].set_position(('data',0))\n",
    "ax.yaxis.set_ticks_position('left')\n",
    "ax.spines['left'].set_position(('data',0))\n",
    "#plt.xlabel(\"x\")\n",
    "#plt.ylabel(\"f(x)\")\n",
    "#plt.grid(True)\n",
    "\n",
    "#Axis\n",
    "plt.axis('scaled')   \n",
    "plt.yticks(color=\"None\")\n",
    "a0=4.0\n",
    "plt.ylim(-a0,a0)\n",
    "plt.yticks(np.arange(-a0, a0, 1.0)) \n",
    "plt.xlim(-a0,a0)\n",
    "plt.xticks(np.arange(-a0, a0, 1.0)) \n",
    "\n",
    "\n",
    "#Main graph\n",
    "xmin=-a0; xmax=a0; npoints=500\n",
    "delta=(xmax-xmin)/npoints\n",
    "x=np.arange(xmin,xmax,delta)\n",
    "y=np.arctan(x)\n",
    "plt.plot(x,y,'green',lw=3)\n",
    "\n",
    "\n",
    "#Range\n",
    "ax.axhline(0.5*np.pi, ls = \"--\", color = \"gray\")\n",
    "ax.axhline(-0.5*np.pi, ls = \"--\", color = \"gray\")\n",
    "\n",
    "\n",
    "#plt.savefig('figure.png')\n",
    "plt.show()"
   ]
  },
  {
   "cell_type": "code",
   "execution_count": 8,
   "metadata": {},
   "outputs": [
    {
     "name": "stderr",
     "output_type": "stream",
     "text": [
      "findfont: Font family ['IPAexGothic'] not found. Falling back to DejaVu Sans.\n"
     ]
    },
    {
     "data": {
      "image/png": "[encoded data removed]",
      "text/plain": [
       "<Figure size 432x288 with 1 Axes>"
      ]
     },
     "metadata": {
      "needs_background": "light"
     },
     "output_type": "display_data"
    }
   ],
   "source": [
    "import pylab as plt\n",
    "import numpy as np\n",
    "\n",
    "\n",
    "\n",
    "for label in ax.get_xticklabels() + ax.get_yticklabels():\n",
    "    label.set_fontsize(16)\n",
    "    label.set_bbox(dict(facecolor='white', edgecolor='None', alpha=0.65))    \n",
    "    \n",
    "ax = plt.gca()  # gca stands for 'get current axis'\n",
    "ax.spines['right'].set_color('none')\n",
    "ax.spines['top'].set_color('none')\n",
    "ax.xaxis.set_ticks_position('bottom')\n",
    "ax.spines['bottom'].set_position(('data',0))\n",
    "ax.yaxis.set_ticks_position('left')\n",
    "ax.spines['left'].set_position(('data',0))\n",
    "#plt.xlabel(\"x\")\n",
    "#plt.ylabel(\"f(x)\")\n",
    "#plt.grid(True)\n",
    "\n",
    "#Axis\n",
    "plt.axis('scaled')   \n",
    "plt.yticks(color=\"None\")\n",
    "a0=6\n",
    "plt.ylim(-a0,a0)\n",
    "plt.yticks(np.arange(-a0, a0, 1.0)) \n",
    "plt.xlim(-a0,a0)\n",
    "plt.xticks(np.arange(-a0, a0, 2.0)) \n",
    "\n",
    "\n",
    "d=0.001\n",
    "###################################\n",
    "#Main graph1\n",
    "xmin=0 \n",
    "xmax=0.5*np.pi-d; npoints=500\n",
    "delta=(xmax-xmin)/npoints\n",
    "x=np.arange(xmin,xmax,delta)\n",
    "y=1/np.cos(x)\n",
    "plt.plot(x,y,'r',lw=3)\n",
    "#Main graph2\n",
    "xmin=0.5*np.pi+d \n",
    "xmax=np.pi ; npoints=500\n",
    "delta=(xmax-xmin)/npoints\n",
    "x=np.arange(xmin,xmax,delta)\n",
    "y=1/np.cos(x)\n",
    "plt.plot(x,y,'r',lw=3)\n",
    "###################################\n",
    "#Sub graph1\n",
    "xmin=-a0\n",
    "xmax=-1.5*np.pi-d; npoints=500\n",
    "delta=(xmax-xmin)/npoints\n",
    "x=np.arange(xmin,xmax,delta)\n",
    "y=1/np.cos(x)\n",
    "plt.plot(x,y,'b',lw=3)\n",
    "#Sub graph2\n",
    "xmin=-1.5*np.pi+d\n",
    "xmax=-0.5*np.pi-d; npoints=500\n",
    "delta=(xmax-xmin)/npoints\n",
    "x=np.arange(xmin,xmax,delta)\n",
    "y=1/np.cos(x)\n",
    "plt.plot(x,y,'b',lw=3)\n",
    "#Sub graph3\n",
    "xmin=-0.5*np.pi+d\n",
    "xmax=0; npoints=500\n",
    "delta=(xmax-xmin)/npoints\n",
    "x=np.arange(xmin,xmax,delta)\n",
    "y=1/np.cos(x)\n",
    "plt.plot(x,y,'b',lw=3)\n",
    "\n",
    "#Sub graph4\n",
    "xmin=np.pi+d\n",
    "xmax=1.5*np.pi-d; npoints=500\n",
    "delta=(xmax-xmin)/npoints\n",
    "x=np.arange(xmin,xmax,delta)\n",
    "y=1/np.cos(x)\n",
    "plt.plot(x,y,'b',lw=3)\n",
    "#Sub graph4\n",
    "xmin=1.5*np.pi+d\n",
    "xmax=a0; npoints=500\n",
    "delta=(xmax-xmin)/npoints\n",
    "x=np.arange(xmin,xmax,delta)\n",
    "y=1/np.cos(x)\n",
    "plt.plot(x,y,'b',lw=3)\n",
    "\n",
    "\n",
    "\n",
    "\n",
    "\n",
    "#Range\n",
    "ax.axvline(0.5*np.pi, ls = \"--\", color = \"gray\")\n",
    "ax.axvline(1.5*np.pi, ls = \"--\", color = \"gray\")\n",
    "ax.axvline(-0.5*np.pi, ls = \"--\", color = \"gray\")\n",
    "ax.axvline(-1.5*np.pi, ls = \"--\", color = \"gray\")\n",
    "\n",
    "\n",
    "\n",
    "\n",
    "\n",
    "#plt.savefig('figure.png')\n",
    "plt.show()"
   ]
  },
  {
   "cell_type": "code",
   "execution_count": 9,
   "metadata": {},
   "outputs": [
    {
     "name": "stderr",
     "output_type": "stream",
     "text": [
      "findfont: Font family ['IPAexGothic'] not found. Falling back to DejaVu Sans.\n"
     ]
    },
    {
     "data": {
      "image/png": "[encoded data removed]",
      "text/plain": [
       "<Figure size 432x288 with 1 Axes>"
      ]
     },
     "metadata": {
      "needs_background": "light"
     },
     "output_type": "display_data"
    }
   ],
   "source": [
    "import pylab as plt\n",
    "import numpy as np\n",
    "\n",
    "\n",
    "\n",
    "for label in ax.get_xticklabels() + ax.get_yticklabels():\n",
    "    label.set_fontsize(16)\n",
    "    label.set_bbox(dict(facecolor='white', edgecolor='None', alpha=0.65))    \n",
    "    \n",
    "ax = plt.gca()  # gca stands for 'get current axis'\n",
    "ax.spines['right'].set_color('none')\n",
    "ax.spines['top'].set_color('none')\n",
    "ax.xaxis.set_ticks_position('bottom')\n",
    "ax.spines['bottom'].set_position(('data',0))\n",
    "ax.yaxis.set_ticks_position('left')\n",
    "ax.spines['left'].set_position(('data',0))\n",
    "#plt.xlabel(\"x\")\n",
    "#plt.ylabel(\"f(x)\")\n",
    "#plt.grid(True)\n",
    "\n",
    "#Axis\n",
    "plt.axis('scaled')   \n",
    "plt.yticks(color=\"None\")\n",
    "a0=6\n",
    "plt.ylim(-a0,a0)\n",
    "plt.yticks(np.arange(-a0, a0, 1.0)) \n",
    "plt.xlim(-a0,a0)\n",
    "plt.xticks(np.arange(-a0, a0, 2.0)) \n",
    "\n",
    "\n",
    "d=0.001\n",
    "###################################\n",
    "#Main graph1\n",
    "xmin=0 \n",
    "xmax=0.5*np.pi-d; npoints=500\n",
    "delta=(xmax-xmin)/npoints\n",
    "x=np.arange(xmin,xmax,delta)\n",
    "y=1/np.cos(x)\n",
    "plt.plot(y,x,'green',lw=3)\n",
    "#Main graph2\n",
    "xmin=0.5*np.pi+d \n",
    "xmax=np.pi ; npoints=500\n",
    "delta=(xmax-xmin)/npoints\n",
    "x=np.arange(xmin,xmax,delta)\n",
    "y=1/np.cos(x)\n",
    "plt.plot(y,x,'green',lw=3)\n",
    "\n",
    "\n",
    "\n",
    "\n",
    "#Range\n",
    "ax.axhline(0.5*np.pi, ls = \"--\", color = \"gray\")\n",
    "ax.axhline(np.pi, ls = \"--\", color = \"gray\")\n",
    "\n",
    "\n",
    "\n",
    "\n",
    "\n",
    "#plt.savefig('figure.png')\n",
    "plt.show()"
   ]
  },
  {
   "cell_type": "code",
   "execution_count": 10,
   "metadata": {},
   "outputs": [
    {
     "name": "stderr",
     "output_type": "stream",
     "text": [
      "findfont: Font family ['IPAexGothic'] not found. Falling back to DejaVu Sans.\n"
     ]
    },
    {
     "data": {
      "image/png": "[encoded data removed]",
      "text/plain": [
       "<Figure size 432x288 with 1 Axes>"
      ]
     },
     "metadata": {
      "needs_background": "light"
     },
     "output_type": "display_data"
    }
   ],
   "source": [
    "import pylab as plt\n",
    "import numpy as np\n",
    "\n",
    "\n",
    "\n",
    "for label in ax.get_xticklabels() + ax.get_yticklabels():\n",
    "    label.set_fontsize(16)\n",
    "    label.set_bbox(dict(facecolor='white', edgecolor='None', alpha=0.65))    \n",
    "    \n",
    "ax = plt.gca()  # gca stands for 'get current axis'\n",
    "ax.spines['right'].set_color('none')\n",
    "ax.spines['top'].set_color('none')\n",
    "ax.xaxis.set_ticks_position('bottom')\n",
    "ax.spines['bottom'].set_position(('data',0))\n",
    "ax.yaxis.set_ticks_position('left')\n",
    "ax.spines['left'].set_position(('data',0))\n",
    "#plt.xlabel(\"x\")\n",
    "#plt.ylabel(\"f(x)\")\n",
    "#plt.grid(True)\n",
    "\n",
    "#Axis\n",
    "plt.axis('scaled')   \n",
    "plt.yticks(color=\"None\")\n",
    "a0=6\n",
    "plt.ylim(-a0,a0)\n",
    "plt.yticks(np.arange(-a0, a0, 1.0)) \n",
    "plt.xlim(-a0,a0)\n",
    "plt.xticks(np.arange(-a0, a0, 2.0)) \n",
    "\n",
    "\n",
    "d=0.001\n",
    "###################################\n",
    "#Main graph1\n",
    "xmin=-0.5*np.pi \n",
    "xmax=0-d\n",
    "npoints=500\n",
    "delta=(xmax-xmin)/npoints\n",
    "x=np.arange(xmin,xmax,delta)\n",
    "y=1/np.sin(x)\n",
    "plt.plot(x,y,'r',lw=3)\n",
    "#Main graph2\n",
    "xmin=0+d \n",
    "xmax=0.5*np.pi\n",
    "npoints=500\n",
    "delta=(xmax-xmin)/npoints\n",
    "x=np.arange(xmin,xmax,delta)\n",
    "y=1/np.sin(x)\n",
    "plt.plot(x,y,'r',lw=3)\n",
    "\n",
    "###################################\n",
    "#Sub graph1\n",
    "xmin=-0.5*np.pi \n",
    "xmax=-np.pi+d\n",
    "npoints=500\n",
    "delta=(xmax-xmin)/npoints\n",
    "x=np.arange(xmin,xmax,delta)\n",
    "y=1/np.sin(x)\n",
    "plt.plot(x,y,'b',lw=3)\n",
    "#Sub graph2\n",
    "xmin=-a0\n",
    "xmax=-np.pi-d\n",
    "npoints=500\n",
    "delta=(xmax-xmin)/npoints\n",
    "x=np.arange(xmin,xmax,delta)\n",
    "y=1/np.sin(x)\n",
    "plt.plot(x,y,'b',lw=3)\n",
    "#Sub graph3\n",
    "xmin=0.5*np.pi \n",
    "xmax=np.pi-d\n",
    "npoints=500\n",
    "delta=(xmax-xmin)/npoints\n",
    "x=np.arange(xmin,xmax,delta)\n",
    "y=1/np.sin(x)\n",
    "plt.plot(x,y,'b',lw=3)\n",
    "#Sub graph3\n",
    "xmin=np.pi+d \n",
    "xmax=a0\n",
    "npoints=500\n",
    "delta=(xmax-xmin)/npoints\n",
    "x=np.arange(xmin,xmax,delta)\n",
    "y=1/np.sin(x)\n",
    "plt.plot(x,y,'b',lw=3)\n",
    "\n",
    "#Range\n",
    "ax.axvline(np.pi, ls = \"--\", color = \"gray\")\n",
    "#ax.axvline(0, ls = \"--\", color = \"gray\")\n",
    "ax.axvline(-1*np.pi, ls = \"--\", color = \"gray\")\n",
    "\n",
    "\n",
    "\n",
    "\n",
    "\n",
    "#plt.savefig('figure.png')\n",
    "plt.show()"
   ]
  },
  {
   "cell_type": "code",
   "execution_count": 11,
   "metadata": {},
   "outputs": [
    {
     "name": "stderr",
     "output_type": "stream",
     "text": [
      "findfont: Font family ['IPAexGothic'] not found. Falling back to DejaVu Sans.\n"
     ]
    },
    {
     "data": {
      "image/png": "[encoded data removed]",
      "text/plain": [
       "<Figure size 432x288 with 1 Axes>"
      ]
     },
     "metadata": {
      "needs_background": "light"
     },
     "output_type": "display_data"
    }
   ],
   "source": [
    "import pylab as plt\n",
    "import numpy as np\n",
    "\n",
    "\n",
    "\n",
    "for label in ax.get_xticklabels() + ax.get_yticklabels():\n",
    "    label.set_fontsize(16)\n",
    "    label.set_bbox(dict(facecolor='white', edgecolor='None', alpha=0.65))    \n",
    "    \n",
    "ax = plt.gca()  # gca stands for 'get current axis'\n",
    "ax.spines['right'].set_color('none')\n",
    "ax.spines['top'].set_color('none')\n",
    "ax.xaxis.set_ticks_position('bottom')\n",
    "ax.spines['bottom'].set_position(('data',0))\n",
    "ax.yaxis.set_ticks_position('left')\n",
    "ax.spines['left'].set_position(('data',0))\n",
    "#plt.xlabel(\"x\")\n",
    "#plt.ylabel(\"f(x)\")\n",
    "#plt.grid(True)\n",
    "\n",
    "#Axis\n",
    "plt.axis('scaled')   \n",
    "plt.yticks(color=\"None\")\n",
    "a0=6\n",
    "plt.ylim(-a0,a0)\n",
    "plt.yticks(np.arange(-a0, a0, 1.0)) \n",
    "plt.xlim(-a0,a0)\n",
    "plt.xticks(np.arange(-a0, a0, 2.0)) \n",
    "\n",
    "\n",
    "d=0.001\n",
    "###################################\n",
    "#Main graph1\n",
    "xmin=-0.5*np.pi \n",
    "xmax=0-d\n",
    "npoints=500\n",
    "delta=(xmax-xmin)/npoints\n",
    "x=np.arange(xmin,xmax,delta)\n",
    "y=1/np.sin(x)\n",
    "plt.plot(y,x,'green',lw=3)\n",
    "#Main graph2\n",
    "xmin=0+d \n",
    "xmax=0.5*np.pi\n",
    "npoints=500\n",
    "delta=(xmax-xmin)/npoints\n",
    "x=np.arange(xmin,xmax,delta)\n",
    "y=1/np.sin(x)\n",
    "plt.plot(y,x,'green',lw=3)\n",
    "\n",
    "#Range\n",
    "ax.axhline(0.5*np.pi, ls = \"--\", color = \"gray\")\n",
    "#ax.axvline(0, ls = \"--\", color = \"gray\")\n",
    "ax.axhline(-0.5*np.pi, ls = \"--\", color = \"gray\")\n",
    "\n",
    "\n",
    "\n",
    "\n",
    "#plt.savefig('figure.png')\n",
    "plt.show()"
   ]
  },
  {
   "cell_type": "code",
   "execution_count": 12,
   "metadata": {},
   "outputs": [
    {
     "name": "stderr",
     "output_type": "stream",
     "text": [
      "findfont: Font family ['IPAexGothic'] not found. Falling back to DejaVu Sans.\n"
     ]
    },
    {
     "data": {
      "image/png": "[encoded data removed]",
      "text/plain": [
       "<Figure size 432x288 with 1 Axes>"
      ]
     },
     "metadata": {
      "needs_background": "light"
     },
     "output_type": "display_data"
    }
   ],
   "source": [
    "import pylab as plt\n",
    "import numpy as np\n",
    "\n",
    "\n",
    "\n",
    "for label in ax.get_xticklabels() + ax.get_yticklabels():\n",
    "    label.set_fontsize(16)\n",
    "    label.set_bbox(dict(facecolor='white', edgecolor='None', alpha=0.65))    \n",
    "    \n",
    "ax = plt.gca()  # gca stands for 'get current axis'\n",
    "ax.spines['right'].set_color('none')\n",
    "ax.spines['top'].set_color('none')\n",
    "ax.xaxis.set_ticks_position('bottom')\n",
    "ax.spines['bottom'].set_position(('data',0))\n",
    "ax.yaxis.set_ticks_position('left')\n",
    "ax.spines['left'].set_position(('data',0))\n",
    "#plt.xlabel(\"x\")\n",
    "#plt.ylabel(\"f(x)\")\n",
    "#plt.grid(True)\n",
    "\n",
    "#Axis\n",
    "plt.axis('scaled')   \n",
    "plt.yticks(color=\"None\")\n",
    "a0=4\n",
    "plt.ylim(-a0,a0)\n",
    "plt.yticks(np.arange(-a0, a0, 1.0)) \n",
    "plt.xlim(-a0,a0)\n",
    "plt.xticks(np.arange(-a0, a0, 2.0)) \n",
    "\n",
    "\n",
    "d=0.001\n",
    "###################################\n",
    "#Main graph1\n",
    "xmin=0+d\n",
    "xmax=np.pi-d\n",
    "npoints=500\n",
    "delta=(xmax-xmin)/npoints\n",
    "x=np.arange(xmin,xmax,delta)\n",
    "y=1/np.tan(x)\n",
    "plt.plot(x,y,'r',lw=3)\n",
    "\n",
    "\n",
    "###################################\n",
    "#Sub graph1\n",
    "xmin=-np.pi+d \n",
    "xmax=0-d\n",
    "npoints=500\n",
    "delta=(xmax-xmin)/npoints\n",
    "x=np.arange(xmin,xmax,delta)\n",
    "y=1/np.tan(x)\n",
    "plt.plot(x,y,'b',lw=3)\n",
    "#Sub graph2\n",
    "xmin=-2*np.pi+d \n",
    "xmax=-np.pi-d\n",
    "npoints=500\n",
    "delta=(xmax-xmin)/npoints\n",
    "x=np.arange(xmin,xmax,delta)\n",
    "y=1/np.tan(x)\n",
    "plt.plot(x,y,'b',lw=3)\n",
    "#Sub graph2\n",
    "xmin=np.pi+d\n",
    "xmax=a0\n",
    "npoints=500\n",
    "delta=(xmax-xmin)/npoints\n",
    "x=np.arange(xmin,xmax,delta)\n",
    "y=1/np.tan(x)\n",
    "plt.plot(x,y,'b',lw=3)\n",
    "\n",
    "\n",
    "\n",
    "\n",
    "\n",
    "#Range\n",
    "ax.axvline(np.pi, ls = \"--\", color = \"gray\")\n",
    "#ax.axvline(0, ls = \"--\", color = \"gray\")\n",
    "ax.axvline(-1*np.pi, ls = \"--\", color = \"gray\")\n",
    "\n",
    "\n",
    "\n",
    "\n",
    "\n",
    "#plt.savefig('figure.png')\n",
    "plt.show()"
   ]
  },
  {
   "cell_type": "code",
   "execution_count": 13,
   "metadata": {},
   "outputs": [
    {
     "name": "stderr",
     "output_type": "stream",
     "text": [
      "findfont: Font family ['IPAexGothic'] not found. Falling back to DejaVu Sans.\n"
     ]
    },
    {
     "data": {
      "image/png": "[encoded data removed]",
      "text/plain": [
       "<Figure size 432x288 with 1 Axes>"
      ]
     },
     "metadata": {
      "needs_background": "light"
     },
     "output_type": "display_data"
    }
   ],
   "source": [
    "import pylab as plt\n",
    "import numpy as np\n",
    "\n",
    "\n",
    "\n",
    "for label in ax.get_xticklabels() + ax.get_yticklabels():\n",
    "    label.set_fontsize(16)\n",
    "    label.set_bbox(dict(facecolor='white', edgecolor='None', alpha=0.65))    \n",
    "    \n",
    "ax = plt.gca()  # gca stands for 'get current axis'\n",
    "ax.spines['right'].set_color('none')\n",
    "ax.spines['top'].set_color('none')\n",
    "ax.xaxis.set_ticks_position('bottom')\n",
    "ax.spines['bottom'].set_position(('data',0))\n",
    "ax.yaxis.set_ticks_position('left')\n",
    "ax.spines['left'].set_position(('data',0))\n",
    "#plt.xlabel(\"x\")\n",
    "#plt.ylabel(\"f(x)\")\n",
    "#plt.grid(True)\n",
    "\n",
    "#Axis\n",
    "plt.axis('scaled')   \n",
    "plt.yticks(color=\"None\")\n",
    "a0=4\n",
    "plt.ylim(-a0,a0)\n",
    "plt.yticks(np.arange(-a0, a0, 1.0)) \n",
    "plt.xlim(-a0,a0)\n",
    "plt.xticks(np.arange(-a0, a0, 2.0)) \n",
    "\n",
    "\n",
    "d=0.001\n",
    "###################################\n",
    "#Main graph1\n",
    "xmin=0+d\n",
    "xmax=np.pi-d\n",
    "npoints=500\n",
    "delta=(xmax-xmin)/npoints\n",
    "x=np.arange(xmin,xmax,delta)\n",
    "y=1/np.tan(x)\n",
    "plt.plot(y,x,'green',lw=3)\n",
    "\n",
    "#Main graph1\n",
    "xmin=0+d\n",
    "xmax=np.pi-d\n",
    "npoints=500\n",
    "delta=(xmax-xmin)/npoints\n",
    "x=np.arange(xmin,xmax,delta)\n",
    "y=1/np.tan(x)\n",
    "plt.plot(x,y,'r',lw=3)\n",
    "\n",
    "#Main graph1\n",
    "xmin=-a0\n",
    "xmax=a0\n",
    "npoints=500\n",
    "delta=(xmax-xmin)/npoints\n",
    "x=np.arange(xmin,xmax,delta)\n",
    "y=x\n",
    "plt.plot(x,y,'b',lw=3)\n",
    "\n",
    "#Range\n",
    "ax.axhline(np.pi, ls = \"--\", color = \"gray\")\n",
    "\n",
    "#plt.savefig('figure.png')\n",
    "plt.show()"
   ]
  },
  {
   "cell_type": "code",
   "execution_count": 14,
   "metadata": {},
   "outputs": [
    {
     "name": "stderr",
     "output_type": "stream",
     "text": [
      "findfont: Font family ['IPAexGothic'] not found. Falling back to DejaVu Sans.\n"
     ]
    },
    {
     "data": {
      "image/png": "[encoded data removed]",
      "text/plain": [
       "<Figure size 432x288 with 1 Axes>"
      ]
     },
     "metadata": {
      "needs_background": "light"
     },
     "output_type": "display_data"
    }
   ],
   "source": [
    "import pylab as plt\n",
    "import numpy as np\n",
    "\n",
    "for label in ax.get_xticklabels() + ax.get_yticklabels():\n",
    "    label.set_fontsize(16)\n",
    "    label.set_bbox(dict(facecolor='white', edgecolor='None', alpha=0.65))    \n",
    "    \n",
    "ax = plt.gca()  # gca stands for 'get current axis'\n",
    "ax.spines['right'].set_color('none')\n",
    "ax.spines['top'].set_color('none')\n",
    "ax.xaxis.set_ticks_position('bottom')\n",
    "ax.spines['bottom'].set_position(('data',0))\n",
    "ax.yaxis.set_ticks_position('left')\n",
    "ax.spines['left'].set_position(('data',0))\n",
    "#plt.xlabel(\"x\")\n",
    "#plt.ylabel(\"f(x)\")\n",
    "#plt.grid(True)\n",
    "\n",
    "#Axis\n",
    "plt.axis('scaled')   \n",
    "plt.yticks(color=\"None\")\n",
    "a0=4\n",
    "plt.ylim(-a0,a0)\n",
    "plt.yticks(np.arange(-a0, a0, 1.0)) \n",
    "plt.xlim(-a0,a0)\n",
    "plt.xticks(np.arange(-a0, a0, 2.0)) \n",
    "\n",
    "\n",
    "d=0.001\n",
    "a=0.5\n",
    "###################################\n",
    "#Main graph1\n",
    "xmin=-a0\n",
    "xmax=a0\n",
    "npoints=500\n",
    "delta=(xmax-xmin)/npoints\n",
    "x=np.arange(xmin,xmax,delta)\n",
    "y=a**(x)\n",
    "plt.plot(x,y,'r',lw=3)\n",
    "\n",
    "\n",
    "#Range\n",
    "#ax.axhline(np.pi, ls = \"--\", color = \"gray\")\n",
    "\n",
    "#plt.savefig('figure.png')\n",
    "plt.show()"
   ]
  },
  {
   "cell_type": "code",
   "execution_count": 15,
   "metadata": {},
   "outputs": [
    {
     "name": "stderr",
     "output_type": "stream",
     "text": [
      "findfont: Font family ['IPAexGothic'] not found. Falling back to DejaVu Sans.\n"
     ]
    },
    {
     "data": {
      "image/png": "[encoded data removed]",
      "text/plain": [
       "<Figure size 432x288 with 1 Axes>"
      ]
     },
     "metadata": {
      "needs_background": "light"
     },
     "output_type": "display_data"
    }
   ],
   "source": [
    "import pylab as plt\n",
    "import numpy as np\n",
    "\n",
    "for label in ax.get_xticklabels() + ax.get_yticklabels():\n",
    "    label.set_fontsize(16)\n",
    "    label.set_bbox(dict(facecolor='white', edgecolor='None', alpha=0.65))    \n",
    "    \n",
    "ax = plt.gca()  # gca stands for 'get current axis'\n",
    "ax.spines['right'].set_color('none')\n",
    "ax.spines['top'].set_color('none')\n",
    "ax.xaxis.set_ticks_position('bottom')\n",
    "ax.spines['bottom'].set_position(('data',0))\n",
    "ax.yaxis.set_ticks_position('left')\n",
    "ax.spines['left'].set_position(('data',0))\n",
    "#plt.xlabel(\"x\")\n",
    "#plt.ylabel(\"f(x)\")\n",
    "#plt.grid(True)\n",
    "\n",
    "#Axis\n",
    "plt.axis('scaled')   \n",
    "plt.yticks(color=\"None\")\n",
    "a0=4\n",
    "plt.ylim(-a0,a0)\n",
    "plt.yticks(np.arange(-a0, a0, 1.0)) \n",
    "plt.xlim(-a0,a0)\n",
    "plt.xticks(np.arange(-a0, a0, 2.0)) \n",
    "\n",
    "\n",
    "d=0.001\n",
    "a=0.5\n",
    "###################################\n",
    "#Main graph1\n",
    "xmin=0+d\n",
    "xmax=a0\n",
    "npoints=500\n",
    "delta=(xmax-xmin)/npoints\n",
    "x=np.arange(xmin,xmax,delta)\n",
    "y=np.log(x)/np.log(a)\n",
    "plt.plot(x,y,'green',lw=3)\n",
    "\n",
    "\n",
    "#Range\n",
    "#ax.axhline(np.pi, ls = \"--\", color = \"gray\")\n",
    "\n",
    "#plt.savefig('figure.png')\n",
    "plt.show()"
   ]
  },
  {
   "cell_type": "code",
   "execution_count": null,
   "metadata": {},
   "outputs": [],
   "source": []
  }
 ],
 "metadata": {
  "kernelspec": {
   "display_name": "Python 3",
   "language": "python",
   "name": "python3"
  },
  "language_info": {
   "codemirror_mode": {
    "name": "ipython",
    "version": 3
   },
   "file_extension": ".py",
   "mimetype": "text/x-python",
   "name": "python",
   "nbconvert_exporter": "python",
   "pygments_lexer": "ipython3",
   "version": "3.7.4"
  }
 },
 "nbformat": 4,
 "nbformat_minor": 2
}
