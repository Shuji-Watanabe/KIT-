{
 "cells": [
  {
   "cell_type": "code",
   "execution_count": 99,
   "metadata": {},
   "outputs": [
    {
     "data": {
      "text/html": [
       "\n",
       "<button id=\"code-show-switch-btn\">スクリプトを表示する</button>\n",
       "\n",
       "<script>\n",
       "var code_show = true;\n",
       "$(\"div.input\").hide();\n",
       "\n",
       "function switch_display_setting() {\n",
       "    var switch_btn = $(\"#code-show-switch-btn\");\n",
       "    if (code_show) {\n",
       "        $(\"div.input\").hide();\n",
       "        code_show = false;\n",
       "        switch_btn.text(\"スクリプトを表示する\");\n",
       "    }else{\n",
       "        $(\"div.input\").show();\n",
       "        code_show = true;\n",
       "        switch_btn.text(\"スクリプトを非表示にする\");\n",
       "    }\n",
       "}\n",
       "\n",
       "$(\"#code-show-switch-btn\").click(switch_display_setting);\n",
       "</script>\n"
      ],
      "text/plain": [
       "<IPython.core.display.HTML object>"
      ]
     },
     "execution_count": 99,
     "metadata": {},
     "output_type": "execute_result"
    }
   ],
   "source": [
    "from IPython.display import HTML\n",
    "\n",
    "HTML(\"\"\"\n",
    "<button id=\"code-show-switch-btn\">スクリプトを表示する</button>\n",
    "\n",
    "<script>\n",
    "var code_show = true;\n",
    "$(\"div.input\").hide();\n",
    "\n",
    "function switch_display_setting() {\n",
    "    var switch_btn = $(\"#code-show-switch-btn\");\n",
    "    if (code_show) {\n",
    "        $(\"div.input\").hide();\n",
    "        code_show = false;\n",
    "        switch_btn.text(\"スクリプトを表示する\");\n",
    "    }else{\n",
    "        $(\"div.input\").show();\n",
    "        code_show = true;\n",
    "        switch_btn.text(\"スクリプトを非表示にする\");\n",
    "    }\n",
    "}\n",
    "\n",
    "$(\"#code-show-switch-btn\").click(switch_display_setting);\n",
    "</script>\n",
    "\"\"\")"
   ]
  },
  {
   "cell_type": "code",
   "execution_count": 2,
   "metadata": {},
   "outputs": [],
   "source": [
    "import matplotlib.pyplot as plt\n",
    "import numpy as np\n",
    "from sympy import *\n",
    "from IPython.display import Math,YouTubeVideo,clear_output,HTML,Markdown\n",
    "from sympy.solvers import solve\n",
    "from sympy.calculus.util import continuous_domain,periodicity,function_range\n",
    "from sympy.calculus.singularities import singularities\n",
    "\n",
    "from ipywidgets import *\n",
    "init_printing()\n",
    "#plt.rcParams['font.family'] = 'IPAexGothic'\n",
    "Global_var_Function = \"なし\""
   ]
  },
  {
   "cell_type": "code",
   "execution_count": 3,
   "metadata": {},
   "outputs": [],
   "source": [
    "#日本ソフトウェア科学会第 33 回大会 (2016 年度) 講演論文集:数学的記号処理システムを用いたソフトウェアの構成手法より\n",
    "#\n",
    "def md(*args):\n",
    "    s = ''\n",
    "    for x in args:\n",
    "        if (isinstance(x, Basic) or isinstance(x, MutableDenseMatrix) or isinstance(x,tuple)):\n",
    "            s += latex( sympify(x))\n",
    "        elif isinstance(x,np.ndarray): \n",
    "            s += latex(Matrix(x))\n",
    "        elif (isinstance(x, str)): \n",
    "            s += x\n",
    "        elif (isinstance(x, int) or isinstance(x, float)): \n",
    "            s += str(x)\n",
    "        else: print(type(x))\n",
    "    return s\n",
    "\n",
    "\n",
    "# その他：中央寄せ: center 右寄せ: right 左寄せ: left\n",
    "def Centering( x ):\n",
    "    s = '<div style=\"text-align: center;\">$\\displaystyle'\n",
    "    s += str(x)\n",
    "    s += '$</div>'\n",
    "    return s"
   ]
  },
  {
   "cell_type": "code",
   "execution_count": 4,
   "metadata": {},
   "outputs": [],
   "source": [
    "def F_Periodicity(Input_f):\n",
    "    f=sympify( Input_f )\n",
    "    F_pd = periodicity(f,x,check=False)\n",
    "    return F_pd\n",
    "\n",
    "def F_Singularity(Input_f):\n",
    "    f=sympify( Input_f )\n",
    "    if f.is_rational_function(x):\n",
    "        F_s = singularities(f,x)\n",
    "        if(F_s == EmptySet()):\n",
    "            F_s = None \n",
    "    else:\n",
    "        F_s = None \n",
    "    return F_s\n",
    "\n",
    "def F_Continuous_domain(Input_f):\n",
    "    f=sympify( Input_f )\n",
    "    Cont_D = continuous_domain(f,x,S.Reals)\n",
    "    return Cont_D\n",
    "\n",
    "def Cal_Info_Function(Input_f,Input_EndP_L,Input_EndP_R):\n",
    "    f=sympify( Input_f )\n",
    "    EndP_L=sympify( Input_EndP_L )\n",
    "    EndP_R=sympify( Input_EndP_R )\n",
    "    \n",
    "    info=[] \n",
    "    info.append(F_Periodicity(f))\n",
    "    info.append(F_Singularity(f))\n",
    "    info.append(F_Continuous_domain(f))\n",
    "    return info\n",
    "\n",
    "def set_Interval(Input_d_type,Input_EndP_L ,Input_EndP_R ):\n",
    "    EndP_L_0 ,EndP_R_0 = Input_EndP_L ,Input_EndP_R\n",
    "    D_type00 ={'[a,b]':0,'[a,b)':1,'(a,b]':2,'(a,b)':3} \n",
    "    if(D_type00[Input_d_type] == 0 ):\n",
    "        Domain_F = Interval(EndP_L_0 ,EndP_R_0 )\n",
    "    elif(D_type00[Input_d_type] == 1 ):\n",
    "        Domain_F = Interval.Ropen(EndP_L_0 ,EndP_R_0 )\n",
    "    elif(D_type00[Input_d_type] == 2 ):\n",
    "        Domain_F = Interval.Lopen(EndP_L_0 ,EndP_R_0 )\n",
    "    elif(D_type00[Input_d_type] == 3 ):\n",
    "        Domain_F = Interval.open(EndP_L_0 ,EndP_R_0 )\n",
    "    return Domain_F\n",
    "\n",
    "\n",
    "def check_Sign_Var01(Var_01):\n",
    "    Var_sign = sign(Var_01)\n",
    "    Var_02 = 0\n",
    "    if(Var_sign == 0):\n",
    "        Var_02 = Var_01\n",
    "    elif(Var_sign == -1):\n",
    "        Var_02 = '-'\n",
    "    elif(Var_sign == 1):\n",
    "        Var_02 ='+'\n",
    "    else:\n",
    "        Var_02 ='*'\n",
    "    return Var_02\n",
    "\n",
    "def Make_Tabel_List_x(Input_x_list):\n",
    "    x_table_list = [] \n",
    "    for i in range(len(Input_x_list)):\n",
    "        if( i == 0):\n",
    "            x_table_list.append(Input_x_list[i])\n",
    "        elif(i == len(Input_x_list)-1):\n",
    "            x_table_list.append('\\cdots')\n",
    "            x_table_list.append(Input_x_list[i])\n",
    "        else:\n",
    "            x_table_list.append('\\cdots')\n",
    "            x_table_list.append(Input_x_list[i])\n",
    "\n",
    "\n",
    "    return x_table_list\n",
    "            \n",
    "def Make_Tabel_List_f(Input_F, Input_x_list):\n",
    "    f=sympify(Input_F)\n",
    "    delta_x = 0.00001\n",
    "    f_table_list = [] \n",
    "    for i in range(len(Input_x_list)):\n",
    "        if( i == 0):\n",
    "            f_var  = limit(f,x,Input_x_list[i],\"+\")\n",
    "            f_table_list.append(f_var)\n",
    "        elif(i == len(Input_x_list)-1):\n",
    "            f_table_list.append('\\cdots')\n",
    "            f_var  = limit(f,x,Input_x_list[i],\"-\")\n",
    "            f_table_list.append(f_var)\n",
    "        else:\n",
    "            f_table_list.append('\\cdots')\n",
    "            f_var  = f.subs(x,Input_x_list[i])\n",
    "            f_table_list.append(f_var)\n",
    "    return f_table_list\n",
    "\n",
    "def Make_Tabel_List_f_d(Input_F, Input_x_list):\n",
    "    f=sympify(Input_F)\n",
    "    delta_x = 0.001\n",
    "    f_table_list = [] \n",
    "    for i in range(len(Input_x_list)):\n",
    "        if( i == 0):\n",
    "            f_var  = limit(f,x,Input_x_list[i],\"+\")\n",
    "            f_table_list.append(f_var)\n",
    "        elif(i == len(Input_x_list)-1):\n",
    "            f_var  = f.subs(x,Input_x_list[i-1]+delta_x)\n",
    "            f_table_list.append(check_Sign_Var01(f_var))\n",
    "                      \n",
    "            f_var  = limit(f,x,Input_x_list[i],\"-\")\n",
    "            f_table_list.append(f_var)\n",
    "        else:\n",
    "            f_var  = f.subs(x,Input_x_list[i]-delta_x)\n",
    "            f_table_list.append(check_Sign_Var01(f_var))\n",
    "\n",
    "            f_var  = f.subs(x,Input_x_list[i])\n",
    "            f_table_list.append(check_Sign_Var01(f_var))\n",
    "    return f_table_list"
   ]
  },
  {
   "cell_type": "markdown",
   "metadata": {},
   "source": [
    "# 与えられた関数の考察"
   ]
  },
  {
   "cell_type": "markdown",
   "metadata": {},
   "source": [
    "## 0. ある$x$に対する関数$f(x)$の値と$f(x)$の値を与える$x$\n",
    "\n",
    "　ある$x$に対する関数$f(x)$の値を計算したり，逆に$f(x)$の値を与える$x$の値の情報は関数を扱う上で基本的なものです．\n",
    "このプログラムは，次の値を計算します．\n",
    "\n",
    "　　 (1) 入力された$f(x)$に対し，$x=a$を代入した値\n",
    "   \n",
    "　　 (2) $b=f(x)$を満たす$x$の値\n",
    " \n",
    "   \n",
    "必要情報を入力し，”計算結果の表示”をクリックしてください．\n",
    "再入力の後，情報の更新を行いたい場合も”基本情報の表示”をクリックしてください．"
   ]
  },
  {
   "cell_type": "code",
   "execution_count": 40,
   "metadata": {},
   "outputs": [
    {
     "data": {
      "application/vnd.jupyter.widget-view+json": {
       "model_id": "5acef8aefd604acf97700ccd1f8c38ba",
       "version_major": 2,
       "version_minor": 0
      },
      "text/plain": [
       "Text(value='x^3/(x^2 - 4)', description='\\u3000関数：', layout=Layout(width='250px'), placeholder='\\u3000式を入力', s…"
      ]
     },
     "metadata": {},
     "output_type": "display_data"
    },
    {
     "data": {
      "application/vnd.jupyter.widget-view+json": {
       "model_id": "678a0a383b154aa3b01ea566be1a0df4",
       "version_major": 2,
       "version_minor": 0
      },
      "text/plain": [
       "HBox(children=(Text(value='1', description='\\u3000a=', layout=Layout(width='250px'), placeholder='\\u3000値または式を…"
      ]
     },
     "metadata": {},
     "output_type": "display_data"
    },
    {
     "data": {
      "application/vnd.jupyter.widget-view+json": {
       "model_id": "b917a4c46d314ccd83c9696e12101e55",
       "version_major": 2,
       "version_minor": 0
      },
      "text/plain": [
       "Output()"
      ]
     },
     "metadata": {},
     "output_type": "display_data"
    },
    {
     "data": {
      "application/vnd.jupyter.widget-view+json": {
       "model_id": "5acef8aefd604acf97700ccd1f8c38ba",
       "version_major": 2,
       "version_minor": 0
      },
      "text/plain": [
       "Text(value='x^3/(x^2 - 4)', description='\\u3000関数：', layout=Layout(width='250px'), placeholder='\\u3000式を入力', s…"
      ]
     },
     "metadata": {},
     "output_type": "display_data"
    },
    {
     "data": {
      "application/vnd.jupyter.widget-view+json": {
       "model_id": "d776bcebf7824c40ac37d0dffa2cd013",
       "version_major": 2,
       "version_minor": 0
      },
      "text/plain": [
       "HBox(children=(Text(value='3*sqrt(3)', description='\\u3000b=', layout=Layout(width='250px'), placeholder='\\u30…"
      ]
     },
     "metadata": {},
     "output_type": "display_data"
    },
    {
     "data": {
      "application/vnd.jupyter.widget-view+json": {
       "model_id": "0bea00c9c58c46e5b87b0b401e5c32c6",
       "version_major": 2,
       "version_minor": 0
      },
      "text/plain": [
       "Output()"
      ]
     },
     "metadata": {},
     "output_type": "display_data"
    }
   ],
   "source": [
    "Input_Var_0=[]\n",
    "style = {'description_width': 'initial'}\n",
    "L01={'width': '250px'}\n",
    "Input_Var_0.append(Text(value=\"x^3/(x^2 - 4)\",placeholder=\"　式を入力\",description=\"　関数：\",layout=L01,style=style))\n",
    "Input_Var_0.append(Text(value=\"1\",placeholder=\"　値または式を入力\",description=\"　a=\",layout=L01,style=style))\n",
    "\n",
    "def Disp_F_Info0_1(b):\n",
    "    with out0_1:\n",
    "        global Input_Var_0\n",
    "        clear_output()\n",
    "        x = symbols('x')\n",
    "        try:\n",
    "            f = sympify(Input_Var_0[0].value)\n",
    "            a = sympify(Input_Var_0[1].value)\n",
    "        except:\n",
    "            display( Math(r'入力に誤りがあります．'))\n",
    "        else:\n",
    "            f_a = simplify(f.subs(x,a))\n",
    "            display(Math(\n",
    "                        r'f(x)=%sのxに%sを代入した結果：\\quad %s'\n",
    "                        %\n",
    "                        (latex(f),latex(a),latex(f_a))\n",
    "                        ))\n",
    "out0_1 = widgets.Output()\n",
    "Button_F_Info0_1 = Button( \n",
    "                    description='f(a)の計算',\n",
    "                    style = style\n",
    "                )\n",
    "Button_F_Info0_1.on_click(Disp_F_Info0_1)\n",
    "display(Input_Var_0[0])\n",
    "display(HBox([\n",
    "            Input_Var_0[1],\n",
    "            Button_F_Info0_1\n",
    "            ]))\n",
    "display(out0_1)\n",
    "\n",
    "\n",
    "Input_Var_0.append(Text(value=\"3*sqrt(3)\",placeholder=\"　値または式を入力\",description=\"　b=\",layout=L01,style=style))\n",
    "Input_Var_0.append(Text(value=\"-oo\",placeholder=\"　値を入力\",description=\"　区間の端点（左）\",layout=L01,style=style))\n",
    "Input_Var_0.append(Text(value=\"oo\",placeholder=\"　値を入力\",description=\"　区間の端点（左）\",layout=L01,style=style))\n",
    "\n",
    "\n",
    "def Disp_F_Info0_2(b):\n",
    "    with out0_2:\n",
    "        global Input_Var_0\n",
    "        clear_output()\n",
    "        x = symbols('x')\n",
    "        x_b_1 = [];x_b_2=[]\n",
    "        try:\n",
    "            f = sympify(Input_Var_0[0].value)\n",
    "            b = sympify(Input_Var_0[2].value)\n",
    "            EndP_L = sympify(Input_Var_0[3].value)\n",
    "            EndP_R = sympify(Input_Var_0[4].value)\n",
    "            Domain_0= Interval(EndP_L,EndP_R)\n",
    "            x_b_1 = solveset( Eq(f,b),x, domain=Domain_0 )\n",
    "        except:\n",
    "            display( Math(r'入力に誤りがあるか，計算できない式です．'))\n",
    "            try:\n",
    "                x_b_2 = solve( Eq(f,b),x )\n",
    "                display( Math(r'%s = %sの解' % ( latex(f),latex(b) )))\n",
    "                for i in range(len(x_b_2)):\n",
    "                    display(Math(\n",
    "                                 r'\\qquad 解[%s]=%s'\n",
    "                                %\n",
    "                                 (i,latex(simplify(x_b_2[i])))\n",
    "                           ))\n",
    "            except:\n",
    "                display( Math(r'入力に誤りがあるか，計算できない式です．'))\n",
    "        else:\n",
    "            try:\n",
    "                x_b_2 = solve( Eq(f,b),x )\n",
    "                display( Math(r'%s = %sの解' % ( latex(f),latex(b) )))\n",
    "                for i in range(len(x_b_2)):\n",
    "                    display(Math(\n",
    "                                 r'\\qquad 解[%s]=%s'\n",
    "                                %\n",
    "                                 (i,latex(simplify(x_b_2[i])))\n",
    "                           ))\n",
    "            except:\n",
    "                display( Math(r'入力に誤りがあるか，計算できない式です．'))\n",
    "\n",
    "\n",
    "    \n",
    "out0_2 = widgets.Output()    \n",
    "Button_F_Info0_2 = Button( \n",
    "                    description='f(x)=bの解',\n",
    "                    style = style\n",
    "                )\n",
    "Button_F_Info0_2.on_click(Disp_F_Info0_2)\n",
    "display(Input_Var_0[0])\n",
    "display(HBox([\n",
    "            Input_Var_0[2],\n",
    "            Input_Var_0[3],\n",
    "            Input_Var_0[4],\n",
    "            Button_F_Info0_2\n",
    "            ]))\n",
    "display(out0_2)"
   ]
  },
  {
   "cell_type": "markdown",
   "metadata": {},
   "source": [
    "## 1. 関数$f(x)$の基本情報の把握\n",
    "\n",
    "　逆関数やグラフの概形を考察する際，定義域や値域，不連続点を把握しておく必要があります．\n",
    "このプログラムはそう言った情報の把握をサポートするためのものです．\n",
    "具体的には，入力された関数$f(x)$について以下の情報を表示します．\n",
    "\n",
    "　　 (1) $f(x)$が周期関数であるかどうかの判定\n",
    "   \n",
    "　　 (2) $x \\in \\mathbb{R}$において$f(x)$が発散する\n",
    "   \n",
    "　　 (3) $x \\in \\mathbb{R}$における$f(x)$の連続な区間\n",
    "   \n",
    "   \n",
    "関数を入力し，”基本情報の表示”をクリックしてください．\n",
    "関数を際入力し，情報の更新を行いたい場合も”基本情報の表示”をクリックしてください．"
   ]
  },
  {
   "cell_type": "code",
   "execution_count": 36,
   "metadata": {
    "scrolled": false
   },
   "outputs": [
    {
     "data": {
      "application/vnd.jupyter.widget-view+json": {
       "model_id": "449fc0cad1804398bd3a9bb696c6494e",
       "version_major": 2,
       "version_minor": 0
      },
      "text/plain": [
       "HBox(children=(Text(value='x^3/(x^2 - 4)', description='\\u3000関数：', layout=Layout(width='250px'), placeholder=…"
      ]
     },
     "metadata": {},
     "output_type": "display_data"
    },
    {
     "data": {
      "application/vnd.jupyter.widget-view+json": {
       "model_id": "6188a2cc33f34d29bdfb21b13d4bc779",
       "version_major": 2,
       "version_minor": 0
      },
      "text/plain": [
       "Output()"
      ]
     },
     "metadata": {},
     "output_type": "display_data"
    }
   ],
   "source": [
    "##### 一価関数となるような定義域の入力　################################\n",
    "x = symbols('x')\n",
    "#global Input_Var\n",
    "style = {'description_width': 'initial'}\n",
    "L01={'width': '250px'}\n",
    "Var_val=['x^3/(x^2 - 4)','-oo','oo'] \n",
    "Var_ph = ['関数を入力','aの値を入力','bの値を入力']\n",
    "Var_Des=['　関数：','　　定義域の端点（左）','　定義域の端点（右）']\n",
    "Input_Var=[]\n",
    "\n",
    "for i in range(3):\n",
    "    Input_Var.append(Text(value=Var_val[i],placeholder=Var_ph[i],description=Var_Des[i],layout=L01,style=style))\n",
    "\n",
    "out1 = widgets.Output()\n",
    "def Disp_F_Info1(b):\n",
    "    with out1:\n",
    "        global Input_Var\n",
    "        Input_F = sympify(Input_Var[0].value)\n",
    "        EndP_L_0 = sympify(-oo) \n",
    "        EndP_R_0 = sympify(oo)\n",
    "        clear_output()\n",
    "        Info_Form =[]\n",
    "        Info_Form.append( r'\\quad (1)\\quad 周期性：%s' )\n",
    "        Info_Form.append( r'\\quad (2)\\quad f(x)が発散するx：%s\\qquad {}^※周期関数の時，自動的に\\rm{None}となります．' )\n",
    "        Info_Form.append( r'\\quad (3)\\quad 連続な区間：%s' )\n",
    "\n",
    "        F_Info = []\n",
    "        F_Info = Cal_Info_Function(Input_F,EndP_L_0,EndP_R_0)\n",
    "\n",
    "        display(Math( r'　関数f(x)=%sについての基本情報' % latex(Input_F)) )\n",
    "        for i in range(3):\n",
    "            display(Math( Info_Form[i] % latex(F_Info[i])))\n",
    "\n",
    "    return\n",
    "\n",
    "\n",
    "\n",
    "Button_F_Info1 = Button( \n",
    "                    description=\"基本情報の表示\",\n",
    "                    style = style\n",
    "                )\n",
    "\n",
    "\n",
    "\n",
    "Button_F_Info1.on_click(Disp_F_Info1)\n",
    "\n",
    "\n",
    "display()\n",
    "display(HBox([Input_Var[0],Button_F_Info1]))\n",
    "display(out1)\n",
    "\n",
    "\n",
    "\n",
    "                \n"
   ]
  },
  {
   "cell_type": "markdown",
   "metadata": {},
   "source": [
    "## 2. 関数$f(x)$の値域の確認\n",
    "\n",
    "　このプログラムは，指定された定義域における$f(x)$の値域の把握をサポートするためのものです．\n",
    "区間のタイプを指定し，区間の端点$a,\\ b$を入力した後，”値域の計算”をクリックしてください．\n",
    "区間を際入力し，情報の更新を行いたい場合も”値域の計算”をクリックしてください．"
   ]
  },
  {
   "cell_type": "code",
   "execution_count": 37,
   "metadata": {},
   "outputs": [
    {
     "data": {
      "application/vnd.jupyter.widget-view+json": {
       "model_id": "bbba537400b249b197dd2f2c5e9b0a5e",
       "version_major": 2,
       "version_minor": 0
      },
      "text/plain": [
       "HBox(children=(Dropdown(description='区間の種類', layout=Layout(width='150px'), options=('[a,b]', '[a,b)', '(a,b]',…"
      ]
     },
     "metadata": {},
     "output_type": "display_data"
    },
    {
     "data": {
      "application/vnd.jupyter.widget-view+json": {
       "model_id": "8c94b403e99b480a827bb45895f6c4d1",
       "version_major": 2,
       "version_minor": 0
      },
      "text/plain": [
       "Output()"
      ]
     },
     "metadata": {},
     "output_type": "display_data"
    }
   ],
   "source": [
    "global Input_Var\n",
    "Input_Var.append(Text(value='-oo',placeholder='　aの値を入力',description='　定義域の端点（左）',layout=L01,style=style))\n",
    "Input_Var.append(Text(value=' oo',placeholder='　bの値を入力',description='　定義域の端点（右）',layout=L01,style=style))\n",
    "\n",
    "L02={'width': '150px'}\n",
    "D_type00=['[a,b]','[a,b)','(a,b]','(a,b)']\n",
    "Var_Domain_type=Dropdown(options=D_type00,value='[a,b]',description='区間の種類',layout=L02,disabled=False)\n",
    "\n",
    "\n",
    "out2 = widgets.Output()\n",
    "def Disp_F_Info2(b):\n",
    "    with out2:\n",
    "        global Input_Var,Var_Domain_type\n",
    "        Input_F = sympify(Input_Var[0].value)\n",
    "        EndP_L_0 = sympify(Input_Var[1].value) \n",
    "        EndP_R_0 = sympify(Input_Var[2].value)\n",
    "        clear_output()\n",
    "        D_type00 ={'[a,b]':0,'[a,b)':1,'(a,b]':2,'(a,b)':3} \n",
    "\n",
    "        if(D_type00[Var_Domain_type.value] == 0 ):\n",
    "            Domain_F = Interval(EndP_L_0 ,EndP_R_0 )\n",
    "            form00 = \"\\qquad 定義域： %s\\qquad {}^※別表記\\ %s \\le x \\le %s\"\n",
    "        elif(D_type00[Var_Domain_type.value] == 1 ):\n",
    "            Domain_F = Interval.Ropen(EndP_L_0 ,EndP_R_0 )\n",
    "            form00 = \"\\qquad 定義域： %s\\qquad {}^※別表記\\ %s \\le x < %s\"\n",
    "        elif(D_type00[Var_Domain_type.value] == 2 ):\n",
    "            Domain_F = Interval.Lopen(EndP_L_0 ,EndP_R_0 )\n",
    "            form00 = \"\\qquad 定義域： %s\\qquad {}^※別表記\\ %s < x \\le %s\"\n",
    "        elif(D_type00[Var_Domain_type.value] == 3 ):\n",
    "            Domain_F = Interval.open(EndP_L_0 ,EndP_R_0 )\n",
    "            form00 = \"\\qquad 定義域： %s\\qquad {}^※別表記\\ %s < x < %s\"\n",
    "            \n",
    "        \n",
    "        display(Math( r'f(x)=%sの値域' %(latex(Input_F)) ))\n",
    "        F_Range=simplify(function_range(Input_F,x,Domain_F) )\n",
    "    \n",
    "        display(Math(\n",
    "                    form00 %( latex(Domain_F),latex(EndP_L_0 ),latex(EndP_R_0))   \n",
    "                    ))\n",
    "        display(Math(\n",
    "                    r'\\qquad f(x)=%sの値域：%s' \n",
    "                    %\n",
    "                    ( latex(Input_F) , latex(F_Range) )\n",
    "            ))\n",
    "    \n",
    "    return\n",
    "\n",
    "\n",
    "Button_F_Info2 = Button( \n",
    "                    description='値域の計算',\n",
    "                    style = style\n",
    "                )\n",
    "Button_F_Info2.on_click(Disp_F_Info2)\n",
    "display(HBox([Var_Domain_type,Input_Var[1],Input_Var[2],Button_F_Info2]))\n",
    "display()\n",
    "display(out2)"
   ]
  },
  {
   "cell_type": "markdown",
   "metadata": {},
   "source": [
    "## 3. グラフの極大，極小について\n",
    "\n",
    "　このプログラムは，\"2. 関数$f(x)$の値域の確認\"で入力された定義域における極大，極小の情報を示すものです．\n",
    "$y=f(x)$とするとき，ある区間において$x$と$y$が１対１に対応するかどうか考察する際に有益な情報です．\n",
    "必要に応じて”情報表示”をクリックし，その内容を確認してください．"
   ]
  },
  {
   "cell_type": "code",
   "execution_count": 38,
   "metadata": {},
   "outputs": [
    {
     "data": {
      "application/vnd.jupyter.widget-view+json": {
       "model_id": "0f490ccf4d9f4480a355739a8146047a",
       "version_major": 2,
       "version_minor": 0
      },
      "text/plain": [
       "Button(description='情報表示', style=ButtonStyle())"
      ]
     },
     "metadata": {},
     "output_type": "display_data"
    },
    {
     "data": {
      "application/vnd.jupyter.widget-view+json": {
       "model_id": "f3045976f46d4aaf9f69bb13c1c80b25",
       "version_major": 2,
       "version_minor": 0
      },
      "text/plain": [
       "Output()"
      ]
     },
     "metadata": {},
     "output_type": "display_data"
    }
   ],
   "source": [
    "global Input_Var\n",
    "\n",
    "def Disp_F_Info3(b):\n",
    "    with out3:\n",
    "        global Input_Var\n",
    "        Input_F = sympify(Input_Var[0].value)\n",
    "        EndP_L = sympify(Input_Var[1].value) \n",
    "        EndP_R = sympify(Input_Var[2].value)\n",
    "        clear_output()\n",
    "        Var_d_type = Var_Domain_type.value\n",
    "        Domain_F = set_Interval(Var_d_type,EndP_L ,EndP_R )\n",
    "        x_d0 = []\n",
    "        x_d0 = sorted(solveset( Eq ( diff(Input_F,x),0 ) ,x ,domain=Domain_F))\n",
    "\n",
    "\n",
    "        display(Math(\n",
    "            r'\\quad f(x)=%sの区間%sにおけるグラフの情報' % (latex(Input_F),latex(Domain_F) )\n",
    "                    ) )\n",
    "        for i in range(len(x_d0)):\n",
    "            x_dd = sign(diff(diff(Input_F,x),x).subs(x,x_d0[i]))\n",
    "            if( x_dd == -1 ):\n",
    "                form01 = \"\\qquad x=%sにおいて極大となる\"\n",
    "            elif(x_dd == 1):\n",
    "                form01 = \"\\qquad x=%sにおいて極小となる\"\n",
    "            else:\n",
    "                form01 = \"\\qquad x=%sにおいて停留点かつ変曲点\"\n",
    "            display(Math( form01% latex(x_d0[i]) ))\n",
    "\n",
    "    \n",
    "out3 = widgets.Output()\n",
    "Button_F_Info3 = Button( \n",
    "                    description='情報表示',\n",
    "                    style = style\n",
    "                )\n",
    "Button_F_Info3.on_click(Disp_F_Info3)\n",
    "display(Button_F_Info3)\n",
    "display()\n",
    "display(out3)\n"
   ]
  },
  {
   "cell_type": "markdown",
   "metadata": {},
   "source": [
    "## 4. $f(x)$の増減表\n",
    "　このプログラムは，入力された関数と定義域における増減表を示すものです．必要に応じて”情報表示”をクリックし，その内容を確認してください．\n",
    "ここで計算される値はあくまでも増減表を作成する際に参考となる情報です．得られた情報を各自で判断してください．"
   ]
  },
  {
   "cell_type": "code",
   "execution_count": null,
   "metadata": {},
   "outputs": [],
   "source": []
  },
  {
   "cell_type": "code",
   "execution_count": 39,
   "metadata": {},
   "outputs": [
    {
     "data": {
      "application/vnd.jupyter.widget-view+json": {
       "model_id": "e6074e622e954e37be47e25244fb385d",
       "version_major": 2,
       "version_minor": 0
      },
      "text/plain": [
       "HBox(children=(Text(value='x^3/(x^2 - 4)', description='\\u3000関数：', layout=Layout(width='250px'), placeholder=…"
      ]
     },
     "metadata": {},
     "output_type": "display_data"
    },
    {
     "data": {
      "application/vnd.jupyter.widget-view+json": {
       "model_id": "5d25e2500513410ea7e97886b9ce2293",
       "version_major": 2,
       "version_minor": 0
      },
      "text/plain": [
       "Output()"
      ]
     },
     "metadata": {},
     "output_type": "display_data"
    }
   ],
   "source": [
    "Input_Var_Table=[]\n",
    "L01={'width': '250px'}\n",
    "L02={'width': '200px'}\n",
    "style = {'description_width': 'initial'}\n",
    "Input_Var_Table.append(Text(value='x^3/(x^2 - 4)',placeholder='　式を入力',description='　関数：',layout=L01,style=style))\n",
    "Input_Var_Table.append(Text(value='-oo',placeholder='　aの値を入力',description='　定義域の端点（左）',layout=L02,style=style))\n",
    "Input_Var_Table.append(Text(value=' oo',placeholder='　bの値を入力',description='　定義域の端点（右）',layout=L02,style=style))\n",
    "\n",
    "def Disp_F_Info4(b):\n",
    "    with out4:\n",
    "        global Input_Var_Table\n",
    "        clear_output()\n",
    "        x_list = []\n",
    "        ## 変数の定義\n",
    "        try:\n",
    "            f = sympify(Input_Var_Table[0].value)\n",
    "            EndP_L = sympify(Input_Var_Table[1].value) \n",
    "            EndP_R = sympify(Input_Var_Table[2].value)\n",
    "            Domain_f = Interval(EndP_L,EndP_R)\n",
    "        except:\n",
    "            display( Math(r'入力に誤りがあります．'))\n",
    "        else:\n",
    "            F_pd = periodicity(f,x,check=False)\n",
    "            if ( F_pd != None and (EndP_L == -oo or EndP_R == oo)):\n",
    "                Domain_f = Interval(-2*F_pd,2*F_pd)\n",
    "                Comm0=\"周期関数です．\"\n",
    "                Comm0+=\"表示されている表は，定義域=%sで作成されたものです．\\\\\\\\\"\n",
    "                Comm0+=\"正しい増減表とするため，端点を適切に入力してください．（１周期となるように設定すること．）\"\n",
    "                display( Math(Comm0 % latex(Domain_f)))\n",
    "\n",
    "\n",
    "            ## 導関数の計算\n",
    "            f_d1 = simplify(diff(f,x))\n",
    "            f_d2 = simplify(diff(f_d1,x))\n",
    "            ## 特異点のチェックとx_listへ追加\n",
    "            try:\n",
    "                singularities(f,x)\n",
    "            except:\n",
    "                pass\n",
    "            else:\n",
    "                x_list += singularities(f,x)\n",
    "            ## 停留点や変曲点のxをx_listへ追加 *虚数解の排除\n",
    "            s0 = solve(  Eq(f,0),x ,domain = Domain_f ) \n",
    "            x_list += [x for x in set(s0) if im(x)==0] \n",
    "            s0 = solve( Eq(f_d1,0), x)\n",
    "            x_d1f_0 = [x for x in set(s0) if im(x)==0] \n",
    "            x_list += x_d1f_0\n",
    "            s0 = solve( Eq(f_d2,0), x)\n",
    "            x_d2f_0 = [x for x in set(s0) if im(x)==0] \n",
    "            x_list += x_d2f_0\n",
    "            x_list = [x for x in set(x_list) if Domain_f.contains(x) ] \n",
    "            ## 定義域の端点をx_listへ追加\n",
    "            x_list.append(EndP_L)\n",
    "            x_list.append(EndP_R)\n",
    "            ## x_listにおける重複要素の削除とソート\n",
    "            x_list = sorted( list(set(x_list)))\n",
    "            ## 表の値の計算\n",
    "            x_table_list=Make_Tabel_List_x(x_list)\n",
    "            f_table_list=Make_Tabel_List_f(f,x_list)\n",
    "            f_d1_table_list=Make_Tabel_List_f_d(f_d1,x_list)\n",
    "            f_d2_table_list=Make_Tabel_List_f_d(f_d2,x_list)\n",
    "\n",
    "            ## 結果の表示\n",
    "            display(Math( r'関数：f(x)=%s,\\ \\\n",
    "                            \\qquad １次導関数：f^{\\prime}(x)=%s,\\ \\\n",
    "                            \\qquad ２次導関数：f^{\\prime\\prime}(x)=%s' \n",
    "                          % \n",
    "                          (latex(f),latex(f_d1),latex(f_d2))\n",
    "                        ))\n",
    "\n",
    "\n",
    "            display(Math( \"増減表\" ))\n",
    "            ## 結果の表示（表部分）\n",
    "            ##### 最初\n",
    "            Table_Form_00='<body> '\n",
    "            Table_Form_00+='<table border=\"1\"  width=\"90%\" style=\"table-layout: auto;border-collapse: collapse\">'\n",
    "            ##### 表の１行目\n",
    "            Table_Form_00+='<tr align=\"center\"> <td> $x$ </td>'\n",
    "            for i in range(len(x_table_list)):\n",
    "                Table_Form_00+= '<td> $'\n",
    "                Table_Form_00+= latex(x_table_list[i])\n",
    "                Table_Form_00+= '$ </td>'\n",
    "            Table_Form_00+='</tr>'\n",
    "            ##### 表の２行目\n",
    "            Table_Form_00+='<tr align=\"center\"> <td> $f^{\\prime}(x)$ </td>'\n",
    "            for i in range(len(f_d1_table_list)):\n",
    "                Table_Form_00+= '<td> $'\n",
    "                Table_Form_00+= latex(f_d1_table_list[i])\n",
    "                Table_Form_00+= '$ </td>'\n",
    "            Table_Form_00+='</tr>'\n",
    "            ##### 表の３行目\n",
    "            Table_Form_00+='<tr align=\"center\"> <td> $f^{\\prime\\prime}(x)$ </td>'\n",
    "            for i in range(len(f_d2_table_list)):\n",
    "                Table_Form_00+= '<td> $'\n",
    "                Table_Form_00+= latex(f_d2_table_list[i])\n",
    "                Table_Form_00+= '$ </td>'\n",
    "            Table_Form_00+='</tr>'\n",
    "            ##### 表の４行目\n",
    "            Table_Form_00+='<tr align=\"center\"> <td> $f(x)$ </td>'\n",
    "            for i in range(len(f_table_list)):\n",
    "                Table_Form_00+= '<td> '\n",
    "                if (f_d1_table_list[i] == '+' and f_d2_table_list[i] == '+' and f_table_list[i] != 0):\n",
    "                    Table_Form_00+= \"&#x2934;\"\n",
    "                elif (f_d1_table_list[i] == '-' and f_d2_table_list[i] == '+' and f_table_list[i] != 0):                    \n",
    "                    Table_Form_00+= \" &#x2937;\"\n",
    "                elif (f_d1_table_list[i] == '+' and f_d2_table_list[i] == '-' and f_table_list[i] != 0):\n",
    "                    Table_Form_00+= \"\"\"<span style=\"transform: rotate(-90deg); display: inline-block;\"> &#x2935; </span>\"\"\"\n",
    "                elif (f_d1_table_list[i] == '-' and f_d2_table_list[i] == '-' and f_table_list[i] != 0):\n",
    "                    Table_Form_00+= \"&#x2935;\"\n",
    "                else:\n",
    "                    Table_Form_00+= \"$\" + latex(f_table_list[i]) + \"$\"\n",
    "                Table_Form_00+= '</td>'\n",
    "            Table_Form_00+='</tr>'\n",
    "            ##### 最後\n",
    "            Table_Form_00+='</table> </body>'\n",
    "\n",
    "            display(Markdown(Table_Form_00))\n",
    "\n",
    "out4 = widgets.Output()\n",
    "Button_F_Info4 = Button( description='増減表の表示',style = style)\n",
    "Button_F_Info4.on_click(Disp_F_Info4)\n",
    "display(HBox([\n",
    "               Input_Var_Table[0],\n",
    "               Input_Var_Table[1],\n",
    "               Input_Var_Table[2],\n",
    "               Button_F_Info4]\n",
    "             ))\n",
    "display()\n",
    "display(out4)"
   ]
  },
  {
   "cell_type": "code",
   "execution_count": null,
   "metadata": {},
   "outputs": [],
   "source": []
  },
  {
   "cell_type": "code",
   "execution_count": null,
   "metadata": {},
   "outputs": [],
   "source": []
  },
  {
   "cell_type": "code",
   "execution_count": null,
   "metadata": {},
   "outputs": [],
   "source": []
  }
 ],
 "metadata": {
  "kernelspec": {
   "display_name": "Python 3",
   "language": "python",
   "name": "python3"
  },
  "language_info": {
   "codemirror_mode": {
    "name": "ipython",
    "version": 3
   },
   "file_extension": ".py",
   "mimetype": "text/x-python",
   "name": "python",
   "nbconvert_exporter": "python",
   "pygments_lexer": "ipython3",
   "version": "3.7.4"
  }
 },
 "nbformat": 4,
 "nbformat_minor": 2
}
