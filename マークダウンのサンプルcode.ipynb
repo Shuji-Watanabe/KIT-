{
 "cells": [
  {
   "cell_type": "code",
   "execution_count": 185,
   "metadata": {},
   "outputs": [
    {
     "data": {
      "text/html": [
       "\n",
       "<button id=\"code-show-switch-btn\">スクリプトを表示する</button>\n",
       "\n",
       "<script>\n",
       "var code_show = true;\n",
       "$(\"div.input\").hide();\n",
       "\n",
       "function switch_display_setting() {\n",
       "    var switch_btn = $(\"#code-show-switch-btn\");\n",
       "    if (code_show) {\n",
       "        $(\"div.input\").hide();\n",
       "        code_show = false;\n",
       "        switch_btn.text(\"スクリプトを表示する\");\n",
       "    }else{\n",
       "        $(\"div.input\").show();\n",
       "        code_show = true;\n",
       "        switch_btn.text(\"スクリプトを非表示にする\");\n",
       "    }\n",
       "}\n",
       "\n",
       "$(\"#code-show-switch-btn\").click(switch_display_setting);\n",
       "</script>\n"
      ],
      "text/plain": [
       "<IPython.core.display.HTML object>"
      ]
     },
     "execution_count": 185,
     "metadata": {},
     "output_type": "execute_result"
    }
   ],
   "source": [
    "from IPython.display import HTML\n",
    "\n",
    "HTML(\"\"\"\n",
    "<button id=\"code-show-switch-btn\">スクリプトを表示する</button>\n",
    "\n",
    "<script>\n",
    "var code_show = true;\n",
    "$(\"div.input\").hide();\n",
    "\n",
    "function switch_display_setting() {\n",
    "    var switch_btn = $(\"#code-show-switch-btn\");\n",
    "    if (code_show) {\n",
    "        $(\"div.input\").hide();\n",
    "        code_show = false;\n",
    "        switch_btn.text(\"スクリプトを表示する\");\n",
    "    }else{\n",
    "        $(\"div.input\").show();\n",
    "        code_show = true;\n",
    "        switch_btn.text(\"スクリプトを非表示にする\");\n",
    "    }\n",
    "}\n",
    "\n",
    "$(\"#code-show-switch-btn\").click(switch_display_setting);\n",
    "</script>\n",
    "\"\"\")"
   ]
  },
  {
   "cell_type": "code",
   "execution_count": 122,
   "metadata": {},
   "outputs": [
    {
     "data": {
      "text/markdown": [
       "# 例として次の文章を入力する\n",
       "Markdown(マークダウン)記法をご存じだろうか。これは、文書を記述するための軽量マークアップ言語の一つだ。       「#」や「-」といった記号を利用して、見出しやリストなどを指定して、綺麗に整形された文書を出力する。        手軽に見栄えの良い文書が作成できるので人気がある。出力フォーマットも、HTML/EPUB/PDF/Word/PowerPoint形式と幅広い。        そのためマニュアルや報告書、電子書籍の作成に活用する例も増えている。今回は、Pythonを利用して、Markdownで書いたテキスト        データをPDF出力するプログラムを作ってみよう。\n",
       "\n",
       "$\\sqrt{1-x}$\n",
       "\n",
       "$\\displaystyle \\int_{0}^{+\\infty} x^{2} + 1\\ dx $\n",
       "\n",
       "<div style=\"text-align: center;\">$\\displaystyle\\int_{0}^{+\\infty}\\sin(x)dx$</div>"
      ],
      "text/plain": [
       "<IPython.core.display.Markdown object>"
      ]
     },
     "metadata": {},
     "output_type": "display_data"
    },
    {
     "data": {
      "text/markdown": [
       "# 例として次の文章を入力する\n",
       "Markdown(マークダウン)記法をご存じだろうか。これは、文書を記述するための軽量マークアップ言語の一つだ。       「#」や「-」といった記号を利用して、見出しやリストなどを指定して、綺麗に整形された文書を出力する。        手軽に見栄えの良い文書が作成できるので人気がある。出力フォーマットも、HTML/EPUB/PDF/Word/PowerPoint形式と幅広い。        そのためマニュアルや報告書、電子書籍の作成に活用する例も増えている。今回は、Pythonを利用して、Markdownで書いたテキスト        データをPDF出力するプログラムを作ってみよう。\n",
       "\n",
       "$\\sqrt{1-x}$\n",
       "\n",
       "$\\displaystyle \\int_{0}^{+\\infty} x^{2} + 1\\ dx $\n",
       "\n",
       "<div style=\"text-align: center;\">$\\displaystyle\\int_{0}^{+\\infty}\\sin(x)dx$</div>"
      ],
      "text/plain": [
       "<IPython.core.display.Markdown object>"
      ]
     },
     "metadata": {},
     "output_type": "display_data"
    }
   ],
   "source": [
    "import numpy as np\n",
    "from sympy import *\n",
    "from sympy.solvers import solve\n",
    "from IPython.display import Math,Markdown,clear_output\n",
    "from ipywidgets import interact, interactive_output, HBox, VBox\n",
    "from ipywidgets import widgets,Button, IntSlider, Text\n",
    "from scipy import optimize, exp\n",
    "\n",
    "#日本ソフトウェア科学会第 33 回大会 (2016 年度) 講演論文集:数学的記号処理システムを用いたソフトウェアの構成手法より\n",
    "#\n",
    "def md(*args):\n",
    "    s = ''\n",
    "    for x in args:\n",
    "        if (isinstance(x, Basic) or isinstance(x, MutableDenseMatrix) or isinstance(x,tuple)):\n",
    "            s += latex( sympify(x))\n",
    "        elif isinstance(x,np.ndarray): \n",
    "            s += latex(Matrix(x))\n",
    "        elif (isinstance(x, str)): \n",
    "            s += x\n",
    "        elif (isinstance(x, int) or isinstance(x, float)): \n",
    "            s += str(x)\n",
    "        else: print(type(x))\n",
    "    return s\n",
    "\n",
    "\n",
    "# その他：中央寄せ: center 右寄せ: right 左寄せ: left\n",
    "def Centering( x ):\n",
    "    s = '<div style=\"text-align: center;\">$\\displaystyle'\n",
    "    s += str(x)\n",
    "    s += '$</div>'\n",
    "    return s\n",
    "\n",
    "\n",
    "\n",
    "#### mdとCenteringの利用例#\n",
    "x = symbols('x')\n",
    "f = x**2 + 1\n",
    "dd = md('# 例として次の文章を入力する\\n',\n",
    "       'Markdown(マークダウン)記法をご存じだろうか。これは、文書を記述するための軽量マークアップ言語の一つだ。\\\n",
    "       「#」や「-」といった記号を利用して、見出しやリストなどを指定して、綺麗に整形された文書を出力する。\\\n",
    "        手軽に見栄えの良い文書が作成できるので人気がある。出力フォーマットも、HTML/EPUB/PDF/Word/PowerPoint形式と幅広い。\\\n",
    "        そのためマニュアルや報告書、電子書籍の作成に活用する例も増えている。今回は、Pythonを利用して、Markdownで書いたテキスト\\\n",
    "        データをPDF出力するプログラムを作ってみよう。\\n',\\\n",
    "        \\\n",
    "       '\\n',\n",
    "       '$\\sqrt{1-x}$\\n',\n",
    "       '\\n',\n",
    "       '$\\displaystyle \\int_{0}^{+\\infty} ',\n",
    "        f,\n",
    "       '\\ dx $'\n",
    "        '\\n\\n',\n",
    "        Centering( \"\\int_{0}^{+\\infty}\\sin(x)dx\" )\n",
    "       )\n",
    "display( Markdown(dd) )\n",
    "display( Markdown(dd) )"
   ]
  },
  {
   "cell_type": "markdown",
   "metadata": {},
   "source": [
    "## aaaaaaaaaaaaaaaaa\n",
    "\n",
    "Markdown(マークダウン)記法をご存じだろうか。これは、文書を記述するための軽量マークアップ言語の一つだ。「#」や「-」といった記号を利用して、見出しやリストなどを指定して、綺麗に整形された文書を出力する。手軽に見栄えの良い文書が作成できるので人気がある。出力フォーマットも、HTML/EPUB/PDF/Word/PowerPoint形式と幅広い。そのためマニュアルや報告書、電子書籍の作成に活用する例も増えている。今回は、Pythonを利用して、Markdownで書いたテキストデータをPDF出力するプログラムを作ってみよう。"
   ]
  },
  {
   "cell_type": "markdown",
   "metadata": {},
   "source": [
    "# 自動演習問題作成プログラム：サンプル"
   ]
  },
  {
   "cell_type": "code",
   "execution_count": 86,
   "metadata": {},
   "outputs": [
    {
     "data": {
      "application/vnd.jupyter.widget-view+json": {
       "model_id": "ee0592f9d4fb4d3b977839b0dbe8e496",
       "version_major": 2,
       "version_minor": 0
      },
      "text/plain": [
       "HBox(children=(Text(value='sin(3*x^2 + 1)', description='$f(x)=$', placeholder='微分する関数'), Text(value='3*x^2+1'…"
      ]
     },
     "metadata": {},
     "output_type": "display_data"
    },
    {
     "data": {
      "application/vnd.jupyter.widget-view+json": {
       "model_id": "1cb8b7d9f86f41d392be16149f0dac0d",
       "version_major": 2,
       "version_minor": 0
      },
      "text/plain": [
       "Output()"
      ]
     },
     "metadata": {},
     "output_type": "display_data"
    }
   ],
   "source": [
    "def Cal_diff(Input_f,Input_u):\n",
    "    x,u = symbols('x u')\n",
    "    f = sympify(Input_f) ; ff = sympify(Input_u)\n",
    "    v = solve( Eq(ff,u),x)\n",
    "    f_u = f.subs(x, v[0])\n",
    "    diff_f_u = diff(f_u,u)\n",
    "    diff_u = diff(ff,x)\n",
    "    diff_fu_x = diff_f_u.subs(u,ff)\n",
    "    diff_f = simplify(diff_fu_x*diff_u)\n",
    "    \n",
    "    display( Math( r'\\qquad 入力関数：f(x)=%s '% (latex(f)) ) )\n",
    "    display( Math( r'\\qquad 変数変換：u=%s\\ \\leftrightarrow\\ x = %s '% (latex(ff) , latex( simplify(v[0]))) ) )\n",
    "    display( Math( r'\\qquad 変数変換後のf：f(u)=%s　　\\ u=%s '% (latex(f_u),latex(ff)) ) )\n",
    "    display( Math( r'\\displaystyle\\qquad 合成関数の微分(途中)：\\frac{df(u)}{du} \\cdot \\frac{du}{dx}=%s\\cdot%s '%\n",
    "                   (latex(diff_f_u),\n",
    "                    latex(diff_u )\n",
    "                    ) \n",
    "                 ) \n",
    "           )\n",
    "    display( Math( r'\\displaystyle\\qquad 合成関数の微分(結果)：\\frac{df(u)}{du} \\cdot \\frac{du}{dx}=%s\\cdot%s = %s '%\n",
    "                   (latex(diff_fu_x ),\n",
    "                    latex(diff_u ),\n",
    "                    latex(diff_f )\n",
    "                    ) \n",
    "                 ) \n",
    "           )\n",
    "\n",
    "\n",
    "Function=Text(value='sin(3*x^2 + 1)',placeholder='微分する関数',description=\"$f(x)=$\")\n",
    "Var_u=Text(value='3*x^2+1',placeholder='uとおく式',description=\"$u=$\")\n",
    "\n",
    "Out_deriv_Composite_f=interactive_output(Cal_diff,{\"Input_f\":Function,\"Input_u\":Var_u})\n",
    "display(HBox([Function,Var_u]))\n",
    "display(Out_deriv_Composite_f)\n",
    "\n"
   ]
  },
  {
   "cell_type": "code",
   "execution_count": 219,
   "metadata": {
    "scrolled": false
   },
   "outputs": [
    {
     "data": {
      "text/markdown": [
       "### 入力"
      ],
      "text/plain": [
       "<IPython.core.display.Markdown object>"
      ]
     },
     "metadata": {},
     "output_type": "display_data"
    },
    {
     "data": {
      "application/vnd.jupyter.widget-view+json": {
       "model_id": "a8f0895dcfca4ce1baec6ce4eb01f8b4",
       "version_major": 2,
       "version_minor": 0
      },
      "text/plain": [
       "HBox(children=(Text(value='sin(3*x^2 + 1)', description='$f(x)=$', layout=Layout(width='190px'), placeholder='…"
      ]
     },
     "metadata": {},
     "output_type": "display_data"
    },
    {
     "data": {
      "application/vnd.jupyter.widget-view+json": {
       "model_id": "2ddbd3d4f7fd44088a8428ca8e3be74e",
       "version_major": 2,
       "version_minor": 0
      },
      "text/plain": [
       "Output()"
      ]
     },
     "metadata": {},
     "output_type": "display_data"
    }
   ],
   "source": [
    "def Cal_diff(Input_f,Input_u):\n",
    "    x,u = symbols('x u')\n",
    "    f = sympify(Input_f) ; ff = sympify(Input_u)\n",
    "    v = solve( Eq(ff,u),x)\n",
    "    f_u = f.subs(x, v[0])\n",
    "    diff_f_u = diff(f_u,u)\n",
    "    diff_u = diff(ff,x)\n",
    "    diff_fu_x = diff_f_u.subs(u,ff)\n",
    "    diff_f = simplify(diff_fu_x*diff_u)\n",
    "    return diff_f_u,diff_u,diff_fu_x,diff_f\n",
    "\n",
    "def Make_Exercise(Input_f,Input_u):\n",
    "    f = sympify(Input_f) ; ff = sympify(Input_u)\n",
    "    Cal_F = []\n",
    "    Cal_F = Cal_diff(Input_f,Input_u)\n",
    "    document00= md( '### 練習問題：合成関数の微分')\n",
    "    document01= md( '#### 方針 \\n\\n'\n",
    "                    '　(1)　$\\displaystyle f(x)=',f,'$','の一部を$u$と置く．\\n\\n',\n",
    "                    '　(2)　合成関数の微分',\n",
    "                    '$\\displaystyle \\\\frac{df(u)}{du} \\cdot \\\\frac{du}{dx}$',\n",
    "                    'を利用することで',\n",
    "                    '　$\\displaystyle \\\\frac{df(x)}{dx}$を求める．',\n",
    "                    '\\n\\n'\n",
    "                  )\n",
    "    document02= md('#### 解答\\n\\n',\n",
    "        '　$\\\\displaystyle f(x)=',f,'$の$',ff,'$を$u$とする．\\n\\n',\n",
    "        \\\n",
    "        '　$\\displaystyle \\\\frac{df(u)}{du} \\cdot \\\\frac{du}{dx}\\ =',\n",
    "          Cal_F[0],'\\cdot',Cal_F[1],\n",
    "        '\\ =\\ ',\n",
    "          Cal_F[2],'\\cdot',Cal_F[1], \n",
    "        '\\ =\\ ',\n",
    "          Cal_F[3],\n",
    "        '$'\n",
    "        )\n",
    "    display( Markdown(document00) )\n",
    "    display( Markdown(document01) )\n",
    "    display( Markdown(document02) )\n",
    "    \n",
    "\n",
    "L01={'width': '190px'}\n",
    "Function=Text(value='sin(3*x^2 + 1)',placeholder='微分する関数',description=\"$f(x)=$\",layout=L01)\n",
    "Var_u=Text(value='3*x^2+1',placeholder='uとおく式',description=\"$u=$\",layout=L01)\n",
    "\n",
    "Out_deriv_Composite_f=interactive_output(Make_Exercise,{\"Input_f\":Function,\"Input_u\":Var_u})\n",
    "display( Markdown('### 入力') )\n",
    "display(HBox([Function,Var_u]))\n",
    "display(Out_deriv_Composite_f)\n",
    "\n",
    "\n"
   ]
  },
  {
   "cell_type": "code",
   "execution_count": 203,
   "metadata": {},
   "outputs": [
    {
     "data": {
      "text/markdown": [
       "### 関数$f(x)$と変数$u$"
      ],
      "text/plain": [
       "<IPython.core.display.Markdown object>"
      ]
     },
     "metadata": {},
     "output_type": "display_data"
    },
    {
     "data": {
      "application/vnd.jupyter.widget-view+json": {
       "model_id": "1446d7a926ea4b96907066163dd4d689",
       "version_major": 2,
       "version_minor": 0
      },
      "text/plain": [
       "HBox(children=(Text(value='', description='\\u3000問1\\u3000', layout=Layout(width='260px'), placeholder='微分する関数f…"
      ]
     },
     "metadata": {},
     "output_type": "display_data"
    },
    {
     "data": {
      "application/vnd.jupyter.widget-view+json": {
       "model_id": "4374aa180a8f4d2eb693cf147bd3c015",
       "version_major": 2,
       "version_minor": 0
      },
      "text/plain": [
       "HBox(children=(Text(value='', description='\\u3000問3\\u3000', layout=Layout(width='260px'), placeholder='微分する関数f…"
      ]
     },
     "metadata": {},
     "output_type": "display_data"
    },
    {
     "data": {
      "application/vnd.jupyter.widget-view+json": {
       "model_id": "693a81da299142a18e94cb3ef2666a3f",
       "version_major": 2,
       "version_minor": 0
      },
      "text/plain": [
       "Button(description='問題の作成', style=ButtonStyle())"
      ]
     },
     "metadata": {},
     "output_type": "display_data"
    },
    {
     "data": {
      "application/vnd.jupyter.widget-view+json": {
       "model_id": "0591ad44d1a4477c8b29bf4820376230",
       "version_major": 2,
       "version_minor": 0
      },
      "text/plain": [
       "Output()"
      ]
     },
     "metadata": {},
     "output_type": "display_data"
    }
   ],
   "source": [
    "def Cal_diff(Input_f,Input_u):\n",
    "    x,u = symbols('x u')\n",
    "    f = sympify(Input_f) ; ff = sympify(Input_u)\n",
    "    v = solve( Eq(ff,u),x)\n",
    "    f_u = f.subs(x, v[0])\n",
    "    diff_f_u = diff(f_u,u)\n",
    "    diff_u = diff(ff,x)\n",
    "    diff_fu_x = diff_f_u.subs(u,ff)\n",
    "    diff_f = simplify(diff_fu_x*diff_u)\n",
    "    return diff_f_u,diff_u,diff_fu_x,diff_f\n",
    "\n",
    "out = widgets.Output()\n",
    "def Make_Exercise(b):\n",
    "    with out:\n",
    "        global Function, Var_u\n",
    "        clear_output()\n",
    "        document00= md('### 練習問題：次の関数$f(x)$の導関数を求めなさい．')\n",
    "        display( Markdown(document00) )\n",
    "        document01=[];document02=[]\n",
    "        for i in range(len(Function)):\n",
    "            if( len(Function[i].value) !=0): \n",
    "                Input_f = sympify(Function[i].value) ; Input_u = sympify(Var_u[i].value)\n",
    "                Cal_F = []\n",
    "                Cal_F = Cal_diff(Input_f,Input_u)\n",
    "\n",
    "                document01.append(\n",
    "                    md('#### 問',str(i+1),'：$\\displaystyle f(x)=',Input_f,'$\\n\\n')\n",
    "                )\n",
    "                document02.append(\n",
    "                    md('#### 問',str(i+1),'の解答\\n\\n',\n",
    "                        '　$\\displaystyle f(x)=',Input_f,'$の$',Input_u,'$を$u$とする．\\n\\n',\n",
    "                        '　$\\displaystyle \\\\frac{df(u)}{du} \\cdot \\\\frac{du}{dx}$',\n",
    "                        '　=　$\\displaystyle ',Cal_F[0],'\\cdot',Cal_F[1],'$',\n",
    "                        '　=　$\\displaystyle ',Cal_F[2],'\\cdot',Cal_F[1],'$',\n",
    "                        '　=　$\\displaystyle ',Cal_F[3],'$'\n",
    "                    )\n",
    "                )\n",
    "        for i in range(len(Function)):\n",
    "            if( len(Function[i].value) !=0):\n",
    "                display( Markdown( document01[i] ) )\n",
    "\n",
    "        for i in range(len(Function)): \n",
    "            if( len(Function[i].value) !=0):\n",
    "                display( Markdown(document02[i]) )\n",
    "    return \n",
    "\n",
    "style = {'description_width': 'initial'}\n",
    "Button_deriv_Composite_f = Button( \n",
    "                    description='問題の作成',\n",
    "                    style = style\n",
    "                )\n",
    "\n",
    "L01={'width': '260px'}\n",
    "L02={'width': '150px'}\n",
    "Function = [] ; Var_u = []\n",
    "for i in range(4):\n",
    "    D01 = '　問';D01+=str(i+1);D01 +='　'\n",
    "    D02 = '　'\n",
    "    Function.append( Text(value='',placeholder='微分する関数f(x)',description=D01 ,layout=L01,style = style))\n",
    "    Var_u.append( Text(value='',placeholder='uとおく式',description=D02,layout=L02,style = style))\n",
    "\n",
    "Button_deriv_Composite_f.on_click(Make_Exercise)\n",
    "\n",
    "display( Markdown('### 関数$f(x)$と変数$u$') )\n",
    "display( HBox([Function[0],Var_u[0],Function[1],Var_u[1]]))\n",
    "display( HBox([Function[2],Var_u[2],Function[3],Var_u[3]]))\n",
    "display( Button_deriv_Composite_f )\n",
    "display( out )\n"
   ]
  },
  {
   "cell_type": "code",
   "execution_count": null,
   "metadata": {},
   "outputs": [],
   "source": []
  }
 ],
 "metadata": {
  "kernelspec": {
   "display_name": "Python 3",
   "language": "python",
   "name": "python3"
  },
  "language_info": {
   "codemirror_mode": {
    "name": "ipython",
    "version": 3
   },
   "file_extension": ".py",
   "mimetype": "text/x-python",
   "name": "python",
   "nbconvert_exporter": "python",
   "pygments_lexer": "ipython3",
   "version": "3.7.4"
  }
 },
 "nbformat": 4,
 "nbformat_minor": 2
}
