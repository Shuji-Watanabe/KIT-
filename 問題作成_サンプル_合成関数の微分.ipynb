{
 "cells": [
  {
   "cell_type": "code",
   "execution_count": 1,
   "metadata": {},
   "outputs": [
    {
     "data": {
      "text/html": [
       "\n",
       "<button id=\"code-show-switch-btn\">スクリプトを表示する</button>\n",
       "\n",
       "<script>\n",
       "var code_show = true;\n",
       "$(\"div.input\").hide();\n",
       "\n",
       "function switch_display_setting() {\n",
       "    var switch_btn = $(\"#code-show-switch-btn\");\n",
       "    if (code_show) {\n",
       "        $(\"div.input\").hide();\n",
       "        code_show = false;\n",
       "        switch_btn.text(\"スクリプトを表示する\");\n",
       "    }else{\n",
       "        $(\"div.input\").show();\n",
       "        code_show = true;\n",
       "        switch_btn.text(\"スクリプトを非表示にする\");\n",
       "    }\n",
       "}\n",
       "\n",
       "$(\"#code-show-switch-btn\").click(switch_display_setting);\n",
       "</script>\n"
      ],
      "text/plain": [
       "<IPython.core.display.HTML object>"
      ]
     },
     "execution_count": 1,
     "metadata": {},
     "output_type": "execute_result"
    }
   ],
   "source": [
    "from IPython.display import HTML\n",
    "\n",
    "HTML(\"\"\"\n",
    "<button id=\"code-show-switch-btn\">スクリプトを表示する</button>\n",
    "\n",
    "<script>\n",
    "var code_show = true;\n",
    "$(\"div.input\").hide();\n",
    "\n",
    "function switch_display_setting() {\n",
    "    var switch_btn = $(\"#code-show-switch-btn\");\n",
    "    if (code_show) {\n",
    "        $(\"div.input\").hide();\n",
    "        code_show = false;\n",
    "        switch_btn.text(\"スクリプトを表示する\");\n",
    "    }else{\n",
    "        $(\"div.input\").show();\n",
    "        code_show = true;\n",
    "        switch_btn.text(\"スクリプトを非表示にする\");\n",
    "    }\n",
    "}\n",
    "\n",
    "$(\"#code-show-switch-btn\").click(switch_display_setting);\n",
    "</script>\n",
    "\"\"\")"
   ]
  },
  {
   "cell_type": "code",
   "execution_count": 2,
   "metadata": {},
   "outputs": [],
   "source": [
    "#使用モジュール等のインポート\n",
    "import numpy as np\n",
    "from sympy import *\n",
    "from sympy.solvers import solve\n",
    "from IPython.display import Math,Markdown,clear_output,YouTubeVideo\n",
    "from ipywidgets import interact, interactive_output, HBox, VBox\n",
    "from ipywidgets import widgets,Button, IntSlider, Text, Checkbox\n",
    "from scipy import optimize, exp"
   ]
  },
  {
   "cell_type": "code",
   "execution_count": 3,
   "metadata": {},
   "outputs": [],
   "source": [
    "#日本ソフトウェア科学会第 33 回大会 (2016 年度) 講演論文集:数学的記号処理システムを用いたソフトウェアの構成手法より\n",
    "#\n",
    "def md(*args):\n",
    "    s = ''\n",
    "    for x in args:\n",
    "        if (isinstance(x, Basic) or isinstance(x, MutableDenseMatrix) or isinstance(x,tuple)):\n",
    "            s += latex( sympify(x))\n",
    "        elif isinstance(x,np.ndarray): \n",
    "            s += latex(Matrix(x))\n",
    "        elif (isinstance(x, str)): \n",
    "            s += x\n",
    "        elif (isinstance(x, int) or isinstance(x, float)): \n",
    "            s += str(x)\n",
    "        else: print(type(x))\n",
    "    return s\n",
    "\n",
    "\n",
    "# その他：中央寄せ: center 右寄せ: right 左寄せ: left\n",
    "def Centering( x ):\n",
    "    s = '<div style=\"text-align: center;\">$\\displaystyle'\n",
    "    s += str(x)\n",
    "    s += '$</div>'\n",
    "    return s"
   ]
  },
  {
   "cell_type": "markdown",
   "metadata": {},
   "source": [
    "# 自動演習問題作成プログラム：サンプル"
   ]
  },
  {
   "cell_type": "code",
   "execution_count": 4,
   "metadata": {},
   "outputs": [
    {
     "data": {
      "text/markdown": [
       "### 関数$f(x)$と変数$u$"
      ],
      "text/plain": [
       "<IPython.core.display.Markdown object>"
      ]
     },
     "metadata": {},
     "output_type": "display_data"
    },
    {
     "data": {
      "application/vnd.jupyter.widget-view+json": {
       "model_id": "40d0f8b60df548eb9fcbde85b7bceca2",
       "version_major": 2,
       "version_minor": 0
      },
      "text/plain": [
       "HBox(children=(Text(value='', description='\\u3000問1\\u3000', layout=Layout(width='260px'), placeholder='微分する関数f…"
      ]
     },
     "metadata": {},
     "output_type": "display_data"
    },
    {
     "data": {
      "application/vnd.jupyter.widget-view+json": {
       "model_id": "3728e8601a9141aebff7b64b7c833dd3",
       "version_major": 2,
       "version_minor": 0
      },
      "text/plain": [
       "HBox(children=(Text(value='', description='\\u3000問3\\u3000', layout=Layout(width='260px'), placeholder='微分する関数f…"
      ]
     },
     "metadata": {},
     "output_type": "display_data"
    },
    {
     "data": {
      "application/vnd.jupyter.widget-view+json": {
       "model_id": "9b6410b2b9514e4eb4aeb1a9ce543745",
       "version_major": 2,
       "version_minor": 0
      },
      "text/plain": [
       "Button(description='問題の作成', style=ButtonStyle())"
      ]
     },
     "metadata": {},
     "output_type": "display_data"
    },
    {
     "data": {
      "application/vnd.jupyter.widget-view+json": {
       "model_id": "eacb4763d9324e068e39f4b68dcad1c3",
       "version_major": 2,
       "version_minor": 0
      },
      "text/plain": [
       "Output()"
      ]
     },
     "metadata": {},
     "output_type": "display_data"
    }
   ],
   "source": [
    "def Cal_diff(Input_f,Input_u):\n",
    "    x,u = symbols('x u')\n",
    "    f = sympify(Input_f) ; ff = sympify(Input_u)\n",
    "    v = solve( Eq(ff,u),x)\n",
    "    f_u = f.subs(x, v[0])\n",
    "    diff_f_u = diff(f_u,u)\n",
    "    diff_u = diff(ff,x)\n",
    "    diff_fu_x = diff_f_u.subs(u,ff)\n",
    "    diff_f = simplify(diff_fu_x*diff_u)\n",
    "    return f_u,diff_f_u,diff_u,diff_fu_x,diff_f\n",
    "\n",
    "out = widgets.Output()\n",
    "def Make_Exercise(b):\n",
    "    with out:\n",
    "        global Function, Var_u\n",
    "        clear_output()\n",
    "        document01=[];document02=[];Cal_F = []\n",
    "        try:\n",
    "            for i in range(len(Function)):\n",
    "                if( len(Function[i].value) !=0): \n",
    "                    Input_f = sympify(Function[i].value) ; Input_u = sympify(Var_u[i].value)\n",
    "                    Cal_F = Cal_diff(Input_f,Input_u)\n",
    "        except:\n",
    "            display(Math(\"関数や$u$の入力または際入力 ※ 入力した式の書き方に誤りがあるかもしれません．\"))\n",
    "        else:\n",
    "            document00= md('#### 　練習問題：次の関数$f(x)$の導関数を求めなさい．')\n",
    "            display( Markdown(document00) )\n",
    "            for i in range(len(Function)):\n",
    "                if( len(Function[i].value) !=0): \n",
    "                    Input_f = sympify(Function[i].value) ; Input_u = sympify(Var_u[i].value)\n",
    "                    Cal_F = Cal_diff(Input_f,Input_u)\n",
    "                    document01.append(\n",
    "                        md('#### 　問',str(i+1),'：$\\displaystyle f(x)=',Input_f,'$\\n\\n')\n",
    "                    )\n",
    "                    document02.append(\n",
    "                        md('#### 　問',str(i+1),'の解答\\n\\n',\n",
    "                            '　$\\displaystyle f(x)=',Input_f,'$の$',Input_u,'$を$u$とする．\\n\\n',\n",
    "                            '　$\\displaystyle \\\\frac{df(u)}{du} \\cdot \\\\frac{du}{dx}$',\n",
    "                            '　=　$\\displaystyle \\\\frac{d}{du} \\\\left\\{',Cal_F[0],\n",
    "                                 '\\\\right\\}\\cdot \\\\frac{d}{dx}\\\\left\\{',Input_u ,'\\\\right\\}$',\n",
    "                            '　=　$\\displaystyle ',Cal_F[1],'\\cdot',Cal_F[2],'$',\n",
    "                            '　=　$\\displaystyle ',Cal_F[3],'\\cdot',Cal_F[2],'$',\n",
    "                            '　=　$\\displaystyle ',Cal_F[4],'$'\n",
    "                        )\n",
    "                    )\n",
    "            for i in range(len(Function)):\n",
    "                if( len(Function[i].value) !=0):\n",
    "                    display( Markdown( document01[i] ) )\n",
    "\n",
    "            for i in range(len(Function)): \n",
    "                if( len(Function[i].value) !=0):\n",
    "                    display( Markdown(document02[i]) )\n",
    "    return \n",
    "\n",
    "style = {'description_width': 'initial'}\n",
    "Button_deriv_Composite_f = Button( \n",
    "                    description='問題の作成',\n",
    "                    style = style\n",
    "                )\n",
    "\n",
    "L01={'width': '260px'}\n",
    "L02={'width': '150px'}\n",
    "Function = [] ; Var_u = []\n",
    "for i in range(4):\n",
    "    D01 = '　問';D01+=str(i+1);D01 +='　'\n",
    "    D02 = '　'\n",
    "    Function.append( Text(value='',placeholder='微分する関数f(x)',description=D01 ,layout=L01,style = style))\n",
    "    Var_u.append( Text(value='',placeholder='uとおく式',description=D02,layout=L02,style = style))\n",
    "\n",
    "Button_deriv_Composite_f.on_click(Make_Exercise)\n",
    "\n",
    "display( Markdown('### 関数$f(x)$と変数$u$') )\n",
    "display( HBox([Function[0],Var_u[0],Function[1],Var_u[1]]))\n",
    "display( HBox([Function[2],Var_u[2],Function[3],Var_u[3]]))\n",
    "display( Button_deriv_Composite_f )\n",
    "display( out )\n"
   ]
  },
  {
   "cell_type": "code",
   "execution_count": null,
   "metadata": {},
   "outputs": [],
   "source": []
  }
 ],
 "metadata": {
  "kernelspec": {
   "display_name": "Python 3",
   "language": "python",
   "name": "python3"
  },
  "language_info": {
   "codemirror_mode": {
    "name": "ipython",
    "version": 3
   },
   "file_extension": ".py",
   "mimetype": "text/x-python",
   "name": "python",
   "nbconvert_exporter": "python",
   "pygments_lexer": "ipython3",
   "version": "3.7.4"
  }
 },
 "nbformat": 4,
 "nbformat_minor": 2
}
