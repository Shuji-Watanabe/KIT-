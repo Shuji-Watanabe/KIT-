{
 "cells": [
  {
   "cell_type": "code",
   "execution_count": 104,
   "metadata": {
    "scrolled": true
   },
   "outputs": [
    {
     "data": {
      "text/html": [
       "\n",
       "<button id=\"code-show-switch-btn\">スクリプトを表示する</button>\n",
       "\n",
       "<script>\n",
       "var code_show = true;\n",
       "$(\"div.input\").hide();\n",
       "\n",
       "function switch_display_setting() {\n",
       "    var switch_btn = $(\"#code-show-switch-btn\");\n",
       "    if (code_show) {\n",
       "        $(\"div.input\").hide();\n",
       "        code_show = false;\n",
       "        switch_btn.text(\"スクリプトを表示する\");\n",
       "    }else{\n",
       "        $(\"div.input\").show();\n",
       "        code_show = true;\n",
       "        switch_btn.text(\"スクリプトを非表示にする\");\n",
       "    }\n",
       "}\n",
       "\n",
       "$(\"#code-show-switch-btn\").click(switch_display_setting);\n",
       "</script>\n"
      ],
      "text/plain": [
       "<IPython.core.display.HTML object>"
      ]
     },
     "execution_count": 104,
     "metadata": {},
     "output_type": "execute_result"
    }
   ],
   "source": [
    "#スクリプト部分の表示制御\n",
    "#https://qiita.com/simonritchie/items/d7dccb798f0b9c8b1ec5\n",
    "#の記事を用いて作成しました．大変有り難うございます．\n",
    "\n",
    "from IPython.display import HTML\n",
    "\n",
    "HTML(\"\"\"\n",
    "<button id=\"code-show-switch-btn\">スクリプトを表示する</button>\n",
    "\n",
    "<script>\n",
    "var code_show = true;\n",
    "$(\"div.input\").hide();\n",
    "\n",
    "function switch_display_setting() {\n",
    "    var switch_btn = $(\"#code-show-switch-btn\");\n",
    "    if (code_show) {\n",
    "        $(\"div.input\").hide();\n",
    "        code_show = false;\n",
    "        switch_btn.text(\"スクリプトを表示する\");\n",
    "    }else{\n",
    "        $(\"div.input\").show();\n",
    "        code_show = true;\n",
    "        switch_btn.text(\"スクリプトを非表示にする\");\n",
    "    }\n",
    "}\n",
    "\n",
    "$(\"#code-show-switch-btn\").click(switch_display_setting);\n",
    "</script>\n",
    "\"\"\")"
   ]
  },
  {
   "cell_type": "code",
   "execution_count": 105,
   "metadata": {},
   "outputs": [],
   "source": [
    "import pandas as pd\n",
    "import numpy as np\n",
    "from sympy import *\n",
    "init_printing()\n",
    "import matplotlib.pyplot as plt\n",
    "#import pylab as plt\n",
    "plt.rcParams['font.family'] = 'IPAexGothic'\n",
    "from IPython.display import Math,YouTubeVideo\n",
    "from sympy.solvers import solve\n",
    "from ipywidgets import interact, interactive_output, Text, HBox, VBox, IntSlider\n",
    "from scipy import optimize, exp\n",
    "# インタラクティブ画面が出ない場合　：　「jupyter nbextension enable --py widgetsnbextension」をターミナル等で一度実行．\n",
    "# Try jupyter[https://jupyter.org/try]上では問題なく動作．\n"
   ]
  },
  {
   "cell_type": "markdown",
   "metadata": {},
   "source": [
    "# <font color=\"DarkGreen\">  関数の描画プログラム </font>"
   ]
  },
  {
   "cell_type": "code",
   "execution_count": 106,
   "metadata": {},
   "outputs": [],
   "source": [
    "x= symbols('x'); f, g ,h= symbols('f g h', cls=Function)\n",
    "\n",
    "def Draw_graph( 関数01, 関数02, y軸平行なグラフの式1, y軸平行なグラフの式2, xmin,xmax,ymin,ymax):\n",
    "    ax = plt.gca()  # gca stands for 'get current axis'\n",
    "    ax.spines['right'].set_color('none')\n",
    "    ax.spines['top'].set_color('none')\n",
    "    ax.xaxis.set_ticks_position('bottom')\n",
    "    ax.spines['bottom'].set_position(('data',0))\n",
    "    ax.yaxis.set_ticks_position('left')\n",
    "    ax.spines['left'].set_position(('data',0))\n",
    "    plt.rcParams[\"figure.autolayout\"] = False\n",
    "    plt.rcParams[\"figure.figsize\"] = [15,10]\n",
    "\n",
    "    #動作チェックしたいプロセス\n",
    "\n",
    "    if 関数01:\n",
    "        col='b'\n",
    "        p=0\n",
    "        plot_graph(関数01, xmin,xmax,ymin,ymax,col,p)\n",
    "    if 関数02:\n",
    "        col='r'\n",
    "        p=0\n",
    "        plot_graph(関数02, xmin,xmax,ymin,ymax,col,p)\n",
    "    if  y軸平行なグラフの式1:\n",
    "        col='g'\n",
    "        p=1\n",
    "        plot_graph(y軸平行なグラフの式1, xmin,xmax,ymin,ymax,col,p)\n",
    "    if  y軸平行なグラフの式2:\n",
    "        col='g'\n",
    "        p=1\n",
    "        plot_graph(y軸平行なグラフの式2, xmin,xmax,ymin,ymax,col,p)\n",
    "            \n",
    "            \n",
    "def plot_graph(関数, xmin,xmax,ymin,ymax, col, p):\n",
    "    if(p == 0):\n",
    "        try:\n",
    "            f = sympify(関数)\n",
    "            ytic=round( (ymax - ymin)/20 ,0)\n",
    "            xtic=round( (ymax - ymin)/20 ,0)\n",
    "            npoints=100000\n",
    "            delta=(xmax-xmin)/npoints\n",
    "            xx=np.arange(xmin,xmax,delta)\n",
    "            xx=np.linspace(xmin,xmax,npoints)\n",
    "            plt.ylim(ymin,ymax); plt.xlim(xmin,xmax)\n",
    "            plt.yticks(np.arange(ymin,ymax,ytic)) \n",
    "            plt.xticks(np.arange(xmin,xmax,xtic)) \n",
    "        except:\n",
    "            print(\"範囲エラー\")\n",
    "\n",
    "        try:\n",
    "            args = (x)\n",
    "            func01 = lambdify(args,f, \"numpy\")\n",
    "            dfunc = lambdify(args, diff(f), \"numpy\")\n",
    "        except:\n",
    "            print(\"計算エラー\")   \n",
    "        else:\n",
    "            try:\n",
    "                if ( diff(f,x)  != 0 ):\n",
    "                    y   = func01(xx)\n",
    "                    y0 = np.where(  ( y < ymin ) |  ( ymax < y )   , None , y )\n",
    "                    y =y0\n",
    "                    plt.plot(xx,y,col,lw=2)\n",
    "                else:\n",
    "                    plt.axhline(float(f), color=col )\n",
    "            except:\n",
    "                print(\"描画エラー\") \n",
    "    else:\n",
    "        try:\n",
    "            f = sympify(関数)\n",
    "            plt.axvline( float(f) , color=col, ls = \"--\" )\n",
    "        except:\n",
    "            print(\"範囲2エラー\")\n"
   ]
  },
  {
   "cell_type": "code",
   "execution_count": 107,
   "metadata": {},
   "outputs": [
    {
     "data": {
      "application/vnd.jupyter.widget-view+json": {
       "model_id": "8a8ace9e374949ffbca392d309908774",
       "version_major": 2,
       "version_minor": 0
      },
      "text/plain": [
       "VBox(children=(HBox(children=(Text(value='x^3/(x^2 - 4)', description='関数１：', layout=Layout(width='330px'), st…"
      ]
     },
     "metadata": {},
     "output_type": "display_data"
    },
    {
     "data": {
      "application/vnd.jupyter.widget-view+json": {
       "model_id": "3fa0d34bc63c4c7795e5652a071a6d34",
       "version_major": 2,
       "version_minor": 0
      },
      "text/plain": [
       "Output()"
      ]
     },
     "metadata": {},
     "output_type": "display_data"
    }
   ],
   "source": [
    "style = {'description_width': 'initial'}\n",
    "table_layout1 = {'width': '330px'}\n",
    "table_layout2 = {'width': '250px'}\n",
    "table_layout3 = {'width': '180px'}\n",
    "\n",
    "t1 = Text(value=\"x^3/(x^2 - 4)\",   description=\"関数１：\", layout =table_layout1, style=style)\n",
    "t2 = Text(value=\"x\",   description=\"関数２：\", layout =table_layout2, style=style)\n",
    "t3 = Text(value=\"2\",   description=\"y軸平行なグラフ１：\",  layout =table_layout3, style=style)\n",
    "t4 = Text(value=\"-2\",   description=\"y軸平行なグラフ２：\",  layout =table_layout3 ,style=style)\n",
    "t5 = IntSlider( value=-10, min=-50, max=0 , description='xmin：', style=style)\n",
    "t6 = IntSlider( value=10,min=0,    max=50 , description='xmax：', style=style)\n",
    "t7 = IntSlider( value=-10,min=-50, max=0 , description='ymin：', style=style)\n",
    "t8 = IntSlider( value=10,min=0,    max=50 , description='ymax：', style=style)\n",
    "out = interactive_output(\n",
    "            Draw_graph \n",
    "                      ,{  \"関数01\": t1\n",
    "                        , \"関数02\": t2\n",
    "                        , \"y軸平行なグラフの式1\":t3\n",
    "                        , \"y軸平行なグラフの式2\":t4\n",
    "                        , \"xmin\":t5\n",
    "                        , \"xmax\":t6\n",
    "                        , \"ymin\":t7\n",
    "                        , \"ymax\":t8\n",
    "                       })\n",
    "hbox1 = HBox([t1, t2, t3, t4])\n",
    "hbox2 = HBox([t5, t6, t7, t8])\n",
    "ui = VBox([hbox1, hbox2])\n",
    "\n",
    "display(ui)\n",
    "display(out)"
   ]
  },
  {
   "cell_type": "markdown",
   "metadata": {},
   "source": [
    "# <font color=\"DarkGreen\">グラフの概形を知るための情報その１：（$y$切片）</font>"
   ]
  },
  {
   "cell_type": "markdown",
   "metadata": {},
   "source": [
    "### (1) $y$切片の定義\n",
    "\n",
    "　　$y=f(x)$と$y$軸との交点を$y$切片と呼ぶ．\n",
    "\n",
    "### (2) $y$切片を解答するための流れ\n",
    "\n",
    "　　**Step1.**　$f(x)$の$x$に０を代入した値$f(0)$を求める．\n",
    "\n",
    "　　**Step2.**　Step1で得られた結果を用いて<font color=\"red\"> **$ \\big(\\ 0,\\ f(0)\\ \\big)$**</font>を書き，これを$y$切片として答える．"
   ]
  },
  {
   "cell_type": "markdown",
   "metadata": {},
   "source": [
    "### ＝＝＝$y$切片の自動計算プログラム＝＝＝"
   ]
  },
  {
   "cell_type": "code",
   "execution_count": 108,
   "metadata": {},
   "outputs": [],
   "source": [
    "def y_intercept( 関数, y切片):\n",
    "    try:\n",
    "        f = simplify(sympify(関数))\n",
    "        y0=f.subs(x, 0 )\n",
    "    except:\n",
    "        print(\"関数fを入力，または再入力\")\n",
    "    else:\n",
    "#        f = sympify(f)\n",
    "        display( Math(r'入力された関数：f(x)=%s' % ( latex(f )))) \n",
    "        if(y切片==True):\n",
    "            if( abs(limit(f,x,0)) != oo ):\n",
    "                display( Math(r'y=%s のy切片の座標' % ( latex( f ) ))) \n",
    "                display( Math(r'\\qquad座標：（\\ 0,\\ %s\\ )' % ( latex( f.subs(x, 0 ) ) )))       \n",
    "            else:\n",
    "                display( Math(r'y=%s のy切片なし' % ( latex( f ) ))) "
   ]
  },
  {
   "cell_type": "code",
   "execution_count": 109,
   "metadata": {},
   "outputs": [
    {
     "data": {
      "application/vnd.jupyter.widget-view+json": {
       "model_id": "9e26a46c083b4f0eb4742018e4a82118",
       "version_major": 2,
       "version_minor": 0
      },
      "text/plain": [
       "interactive(children=(Text(value='', description='関数'), Checkbox(value=False, description='y切片'), Output()), _…"
      ]
     },
     "metadata": {},
     "output_type": "display_data"
    }
   ],
   "source": [
    "x = symbols('x'); f= symbols('f', cls=Function)\n",
    "\n",
    "Inta=interact(y_intercept, 関数='',y切片=False)"
   ]
  },
  {
   "cell_type": "markdown",
   "metadata": {},
   "source": [
    "# <font color=\"DarkGreen\"> グラフの概形を知るための情報その２：$x$切片 </font>"
   ]
  },
  {
   "cell_type": "markdown",
   "metadata": {},
   "source": [
    "### (1) $x$切片の定義\n",
    "\n",
    "　　$y=f(x)$と$x$軸との交点をx切片と呼ぶ．\n",
    "\n",
    "### (2) $x$切片を解答するための流れ\n",
    "\n",
    "　　**Step1.**　方程式$f(x)=0$の実数解$X$を求める．\n",
    "\n",
    "　　**Step2.**　Step1で得られた実数解全てについて<font color=\"red\"> **$ \\big(\\ X,\\ 0\\ \\big)$**</font>を書き，これを$x$切片として答える．"
   ]
  },
  {
   "cell_type": "markdown",
   "metadata": {},
   "source": [
    "### ＝＝＝$x$切片の自動計算プログラム＝＝＝"
   ]
  },
  {
   "cell_type": "code",
   "execution_count": 110,
   "metadata": {},
   "outputs": [],
   "source": [
    "def x_intercept( 関数, 途中の方程式, x切片):\n",
    "    try:\n",
    "        f = sympify(関数)\n",
    "        x0=solve( Eq(0,cancel(f)) ,x)\n",
    "    except:\n",
    "        print(\"関数fを入力，または再入力\")\n",
    "    else:\n",
    "        display( Math(r'入力された関数：f(x)=%s' % ( latex(f )))) \n",
    "        x0_Real=[]\n",
    "        for i in range( len(x0) ):\n",
    "            if( im( x0[i-1] ) == 0 ):\n",
    "                 x0_Real.append(x0[i-1])\n",
    "\n",
    "        if(途中の方程式==True):                \n",
    "            display( Math(r'\\qquad  途中の方程式 %s=0の解 ：%s' % ( latex(f),  latex( x0) )))\n",
    "            \n",
    "        if(x切片==True):\n",
    "            if( len(x0_Real) == 0 ):\n",
    "                display( Math(r'\\qquad  %s=0の実数解がないため，x切片なし' % (latex( f ) )))\n",
    "            else:      \n",
    "                display( Math(r'\\qquad  y=%s のx切片の座標' % ( latex( f ) ))) \n",
    "                for i in range( len(x0_Real) ):\n",
    "                        display( Math(r'\\qquad  \\qquad座標[%s]：（\\ %s,\\ 0\\ ) ' % ( i, latex( x0_Real[i-1] ) )))    \n"
   ]
  },
  {
   "cell_type": "code",
   "execution_count": 111,
   "metadata": {},
   "outputs": [
    {
     "data": {
      "application/vnd.jupyter.widget-view+json": {
       "model_id": "741bfae53ff14284a9fa6c9ef37b5d86",
       "version_major": 2,
       "version_minor": 0
      },
      "text/plain": [
       "interactive(children=(Text(value='', description='関数'), Checkbox(value=False, description='途中の方程式'), Checkbox(…"
      ]
     },
     "metadata": {},
     "output_type": "display_data"
    }
   ],
   "source": [
    "x = symbols('x'); f= symbols('f', cls=Function)\n",
    "\n",
    "Inta=interact(x_intercept, 関数='', 途中の方程式=False, x切片=False)"
   ]
  },
  {
   "cell_type": "markdown",
   "metadata": {},
   "source": [
    "# <font color=\"DarkGreen\">グラフの概形を知るための情報その３：極値</font>"
   ]
  },
  {
   "cell_type": "markdown",
   "metadata": {},
   "source": [
    "### (1) 極値の定義\n",
    "\n",
    "　　教科書p135を参照\n",
    "\n",
    "### (2) 極値を解答するための流れ\n",
    "　　**Step1.**　方程式$f'(x)=0$の解を求める．\n",
    "\n",
    "　　**Step2.**　方程式$f'(x)=0$の解を$c$とする時，x=cの前後で$f'(x)$の符号が変化を調べる．\n",
    "\n",
    "　　**Step3.**　Step2の結果を踏まえて，極大値か極小値の判定する．\n",
    "\n",
    "　　　・x=cの前後で$f'(x)$の符号が　<font color=\"blue\"> 正から負に変わる時 </font>，$f(c)$を極大値と呼ぶ．\n",
    "\n",
    "　　　・x=cの前後で$f’(x)$の符号が　<font color=\"blue\"> 変わらない時 </font>，$f(c)$は極大値でも極小値でもない．\n",
    "\n",
    "　　　・x=cの前後で$f’(x)$の符号が　<font color=\"blue\"> 負から正に変わる時 </font>，$f(c)$を極小値と呼ぶ．\n"
   ]
  },
  {
   "cell_type": "markdown",
   "metadata": {},
   "source": [
    "### ＝＝＝極値の自動計算プログラム＝＝＝"
   ]
  },
  {
   "cell_type": "code",
   "execution_count": 112,
   "metadata": {},
   "outputs": [],
   "source": [
    "def extreme_value( 関数, 途中の方程式とその解,極値):\n",
    "    try:\n",
    "        f = sympify(関数)\n",
    "        #１次導関数のゼロ点\n",
    "        f_diff1=diff(f,x)\n",
    "        d_Eq_sol_1 = simplify( solve(Eq(0, simplify(f_diff1)),x) )\n",
    "    except:\n",
    "        print(\"関数fを入力，または再入力\")\n",
    "    else:\n",
    "        display( Math(r'入力された関数：f(x)=%s' % ( latex(f )))) \n",
    "        if( len(d_Eq_sol_1) == 0 ):\n",
    "            display( Math(r'%s=0の解なし' % (latex( f_diff1 ) )))\n",
    "        else:\n",
    "            d_Eq_sol_1_Real = []\n",
    "            for i in range( len(d_Eq_sol_1) ):\n",
    "                if( im( d_Eq_sol_1[i-1] ) == 0 ):\n",
    "                    d_Eq_sol_1_Real.append(d_Eq_sol_1[i-1])\n",
    "                    \n",
    "            if(途中の方程式とその解 == True):\n",
    "                display( Math(r'\\qquad 1次導関数：\\frac{df(x)}{dx}=%s' % ( latex(  f_diff1 ))))    \n",
    "                display( Math(r'\\qquad 途中の方程式　%s=0　の解：%s' % ( latex(f_diff1), latex( d_Eq_sol_1 ) )))  \n",
    "                \n",
    "            for i in range( len(d_Eq_sol_1_Real) ):\n",
    "                xm = f_diff1.subs(x, d_Eq_sol_1_Real[i-1] - 10**(-10) )\n",
    "                xp  = f_diff1.subs(x, d_Eq_sol_1_Real[i-1] + 10**(-10) )\n",
    "                if(極値==True):\n",
    "                    if( 0 <= xm * xp ):\n",
    "                                display( Math(r'\\qquad[%s]： x＝%sは極値ではない．' \n",
    "                                            % ( \n",
    "                                                   i,\n",
    "                                                   latex( d_Eq_sol_1_Real[i-1] )\n",
    "                                                 )\n",
    "                                             ) \n",
    "                                       ) \n",
    "                    if( 0 < xm and  xp < 0):\n",
    "                        display( Math(r'\\qquad[%s]： f(x)=%sはx=%sで極大となる．またその値は%sである．' \n",
    "                                    % ( \n",
    "                                           i,\n",
    "                                           latex(f ),\n",
    "                                           latex( d_Eq_sol_1_Real[i-1] ),\n",
    "                                           latex( f.subs(x, d_Eq_sol_1_Real[i-1] ) ) \n",
    "                                         )\n",
    "                                     ) \n",
    "                               ) \n",
    "                    if( 0 > xm and  xp > 0):\n",
    "                        display( Math(r'\\qquad[%s]： f(x)=%sはx=%sで極小となる．またその値は%sである．' \n",
    "                                    % ( \n",
    "                                           i,\n",
    "                                           latex(f ),\n",
    "                                           latex( d_Eq_sol_1_Real[i-1] ),\n",
    "                                           latex( f.subs(x, d_Eq_sol_1_Real[i-1] ) ) \n",
    "                                         )\n",
    "                                     ) \n",
    "                               ) \n"
   ]
  },
  {
   "cell_type": "code",
   "execution_count": 113,
   "metadata": {},
   "outputs": [
    {
     "data": {
      "application/vnd.jupyter.widget-view+json": {
       "model_id": "e36c531a1294434890bc130d47e5ac49",
       "version_major": 2,
       "version_minor": 0
      },
      "text/plain": [
       "interactive(children=(Text(value='', description='関数'), Checkbox(value=False, description='途中の方程式とその解'), Check…"
      ]
     },
     "metadata": {},
     "output_type": "display_data"
    }
   ],
   "source": [
    "x = symbols('x'); f= symbols('f', cls=Function)\n",
    "\n",
    "Inta=interact(extreme_value, 関数='', 途中の方程式とその解=False, 極値=False)"
   ]
  },
  {
   "cell_type": "markdown",
   "metadata": {},
   "source": [
    "# <font color=\"DarkGreen\"> グラフの概形を知るための情報その4：変曲点 </font>"
   ]
  },
  {
   "cell_type": "markdown",
   "metadata": {},
   "source": [
    "### (1) 変曲点の定義\n",
    "\n",
    "　　教科書p136を参照\n",
    "\n",
    "### (2) 変曲点を解答するための流れ\n",
    "　　**Step1.**　方程式$f''(x)=0$の解を求める．\n",
    "\n",
    "　　**Step2.**　方程式$f''(x)=0$の解を$c$とする時，x=cの前後で$f''(x)$の符号が変化を調べる．\n",
    "\n",
    "　　**Step3.**　Step2の結果を踏まえて，変曲点かどうかの判定する．\n",
    "\n",
    "　　　・x=cの前後で$f'’(x)$の符号が<font color=\"blue\"> 変わる時 </font>，$y=f(x)$上の点$\\big(\\ c,\\ f(c) \\ \\big)$は変曲点である．\n",
    "\n",
    "　　　・x=cの前後で$f'’(x)$の符号が<font color=\"blue\"> 変わらない時</font>，$y=f(x)$上の点$\\big(\\ c,\\ f(c) \\ \\big)$は変曲点ではない．"
   ]
  },
  {
   "cell_type": "markdown",
   "metadata": {},
   "source": [
    "### ＝＝＝変曲点の自動計算プログラム＝＝＝"
   ]
  },
  {
   "cell_type": "code",
   "execution_count": 114,
   "metadata": {},
   "outputs": [],
   "source": [
    "def inflection_point( 関数, 途中の方程式とその解,変曲点):\n",
    "    try:\n",
    "        f = sympify(関数)\n",
    "        #１次導関数のゼロ点\n",
    "        f_diff1=diff(f,x)\n",
    "        f_diff2=diff(f_diff1,x)\n",
    "        d_Eq_sol_2 = simplify( solve(Eq(0, simplify(f_diff2)),x) )\n",
    "    except:\n",
    "        print(\"関数fを入力，または再入力\")\n",
    "    else:\n",
    "        display( Math(r'入力された関数：f(x)=%s' % ( latex(f )))) \n",
    "        if( len(d_Eq_sol_2) == 0 ):\n",
    "            display( Math(r'%s=0の解なし' % (latex( f_diff2 ) )))\n",
    "        else:\n",
    "            d_Eq_sol_2_Real = []\n",
    "            for i in range( len(d_Eq_sol_2) ):\n",
    "                if( im( d_Eq_sol_2[i-1] ) == 0 ):\n",
    "                    d_Eq_sol_2_Real.append(d_Eq_sol_2[i-1])\n",
    "                    \n",
    "            if(途中の方程式とその解 == True):\n",
    "                display( Math(r'\\qquad 2次導関数：\\frac{d^2f(x)}{dx^2}=%s' % ( latex(  f_diff2 ))))    \n",
    "                display( Math(r'\\qquad 途中の方程式　%s=0　の解：%s' % ( latex(f_diff2), latex( d_Eq_sol_2 ) )))  \n",
    "                \n",
    "            for i in range( len(d_Eq_sol_2_Real) ):\n",
    "                xm = f_diff2.subs(x, d_Eq_sol_2_Real[i-1] - 10**(-10) )\n",
    "                xp  = f_diff2.subs(x, d_Eq_sol_2_Real[i-1] + 10**(-10) )\n",
    "                if(変曲点==True):\n",
    "                    if( 0 <= xm * xp ):\n",
    "                                display( Math(r'\\qquad[%s]： 点（\\ %s,\\ %s\\ )はf(x)=%sの変曲点ではない．' \n",
    "                                            % ( \n",
    "                                                   i,\n",
    "                                                   latex( d_Eq_sol_2_Real[i-1] ),\n",
    "                                                   latex( f.subs(x, d_Eq_sol_2_Real[i-1] ) ),\n",
    "                                                   latex(f )\n",
    "                                                 )\n",
    "                                             ) \n",
    "                                       ) \n",
    "                    if(  xm * xp < 0):\n",
    "                        display( Math(r'\\qquad[%s]： 点（\\ %s,\\ %s\\ )はf(x)=%sの変曲点である．' \n",
    "                                    % ( \n",
    "                                           i,\n",
    "                                           latex( d_Eq_sol_2_Real[i-1] ),\n",
    "                                           latex( f.subs(x, d_Eq_sol_2_Real[i-1] ) ),\n",
    "                                           latex(f )\n",
    "                                         )\n",
    "                                     ) \n",
    "                               ) "
   ]
  },
  {
   "cell_type": "code",
   "execution_count": 115,
   "metadata": {},
   "outputs": [
    {
     "data": {
      "application/vnd.jupyter.widget-view+json": {
       "model_id": "f018d12db9484027a6e964856779cff4",
       "version_major": 2,
       "version_minor": 0
      },
      "text/plain": [
       "interactive(children=(Text(value='', description='関数'), Checkbox(value=False, description='途中の方程式とその解'), Check…"
      ]
     },
     "metadata": {},
     "output_type": "display_data"
    }
   ],
   "source": [
    "x = symbols('x'); f= symbols('f', cls=Function)\n",
    "\n",
    "Inta=interact(inflection_point, 関数='', 途中の方程式とその解=False, 変曲点=False)"
   ]
  },
  {
   "cell_type": "markdown",
   "metadata": {},
   "source": [
    "# <font color=\"DarkGreen\"> グラフの概形を知るための情報その5：漸近線 </font>"
   ]
  },
  {
   "cell_type": "markdown",
   "metadata": {},
   "source": [
    "### (1) 漸近線の定義\n",
    "\n",
    "　　教科書p13を参照"
   ]
  },
  {
   "cell_type": "markdown",
   "metadata": {},
   "source": [
    "### (2) x軸に平行な漸近線を解答するための流れ\n",
    "　　**Step1.**　$\\displaystyle \\lim_{x \\to +\\infty} f(x)$または$\\displaystyle \\lim_{x \\to -\\infty} f(x)$計算する．\n",
    "  \n",
    "　　**Step2.**　Step1の計算結果を踏まえて，漸近線の式を解答する．\n",
    "\n",
    "　　・$\\displaystyle \\lim_{x \\to +\\infty} f(x)=a$かつ$\\displaystyle \\lim_{x \\to -\\infty} f(x)=b$（ただし$a，b$は実数）である時，$y=a$と$y=b$は$y=f(x)$の$x$軸に平行な漸近線となる．\n",
    "      \n",
    "　　・$\\displaystyle \\lim_{x \\to + \\infty} f(x)  = \\lim_{x \\to - \\infty} f(x) = a$（ただし$a$は実数）である時，$y=a$は$y=f(x)$の$x$軸に平行な漸近線となる．\n",
    "      \n",
    "　　・$\\displaystyle \\lim_{x \\to + \\infty} f(x) = a$または$\\displaystyle \\lim_{x \\to - \\infty} f(x) = a$（ただし$a$は実数）である時，$y=a$は$y=f(x)$の$x$軸に平行な漸近線となる．\n",
    "      \n",
    "　　・$\\displaystyle \\lim_{x \\to \\pm \\infty} f(x)$がある実数$a$に収束しないとき，$y=f(x)$の$x$軸に平行な漸近線はないという結論を得る．\n"
   ]
  },
  {
   "cell_type": "markdown",
   "metadata": {},
   "source": [
    "### ＝＝＝ $x$軸に平行な漸近線の自動計算プログラム＝＝＝"
   ]
  },
  {
   "cell_type": "code",
   "execution_count": 116,
   "metadata": {},
   "outputs": [],
   "source": [
    "def asymptote_x(関数,極限の確認,x軸に平行な漸近線):\n",
    "    try:\n",
    "        f = sympify(関数)\n",
    "        c0 = Precheck_conv( f)\n",
    "        #L1 = limit(f,x,+oo)\n",
    "        #L2 = limit(f,x,-oo)    \n",
    "        #L1_d = limit(f,x, 10**(3))\n",
    "        #L2_d = limit(f,x,-10**(3)) \n",
    "        display( Math(r'入力された関数：f(x)=%s' % ( latex(f )))) \n",
    "        #print( L1, L2, im(L2_c) , L1*0,L2*0  )\n",
    "    except:\n",
    "        print(\"関数・漸近線の候補を入力，または再入力\")   \n",
    "    else:\n",
    "        L1=c0[0]; L2=c0[1]; L1_d=c0[2]; L2_d = c0[3]\n",
    "        Check_conv01=c0[4];Check_conv02=c0[5]\n",
    "        Check_domain01=c0[6];Check_domain02=c0[7]\n",
    "\n",
    "        \n",
    "        if( 極限の確認 == True ):\n",
    "            if( Check_domain01 == 1 ):\n",
    "                display( Math( r'\\qquad \\qquad  \\lim_{x \\to +\\infty} f(x)=%s' % ( latex(L1))) )\n",
    "            if( Check_domain02 == 1 ):\n",
    "                display( Math( r'\\qquad \\qquad  \\lim_{x \\to -\\infty} f(x)=%s' % ( latex(L2) )) )\n",
    "\n",
    "        if( x軸に平行な漸近線 == True ):\n",
    "            if( (Check_conv01+ Check_conv02 == 0) ):\n",
    "                display(  Math(r'\\qquad \\qquad  x軸に平行な漸近線なし'))\n",
    "            else:\n",
    "                if( L1 == L2 ):\n",
    "                    display( Math(r'\\qquad \\qquad  f(x)=%sが持つx軸に平行な漸近線：y=%s' % (    latex(f), latex(L1)   )))   \n",
    "                else:\n",
    "                    if( Check_conv01 == 1  ):\n",
    "                        display( Math(r'\\qquad \\qquad  f(x)=%sが持つx軸に平行な漸近線：y=%s' % (    latex(f), latex(L1)   ))) \n",
    "                    if( Check_conv02 == 1):\n",
    "                        display( Math(r'\\qquad \\qquad  f(x)=%sが持つx軸に平行な漸近線：y=%s' % (    latex(f), latex(L2)   )))   \n",
    "\n",
    "def Precheck_conv(f):\n",
    "    L1 = limit(f,x,+oo)\n",
    "    L2 = limit(f,x,-oo)    \n",
    "    L1_d = limit(f,x, 10**(3))\n",
    "    L2_d = limit(f,x,-10**(3))\n",
    "    Check_conv01=0;Check_conv02=0\n",
    "    Check_domain01=0;Check_domain02=0\n",
    "    if( L1*0 == 0 ): Check_conv01 = 1\n",
    "    if( L2*0 == 0 ): Check_conv02 = 1\n",
    "    if( im(L1_d) == 0 ): Check_domain01 = 1\n",
    "    if( im(L2_d) == 0 ): Check_domain02 = 1\n",
    "        \n",
    "    return L1,L2,L1_d,L2_d, Check_conv01,Check_conv02,Check_domain01, Check_domain02"
   ]
  },
  {
   "cell_type": "code",
   "execution_count": 117,
   "metadata": {},
   "outputs": [
    {
     "data": {
      "application/vnd.jupyter.widget-view+json": {
       "model_id": "e64c709b46ec4e5d8bae647313c58464",
       "version_major": 2,
       "version_minor": 0
      },
      "text/plain": [
       "interactive(children=(Text(value='', description='関数'), Checkbox(value=False, description='極限の確認'), Checkbox(v…"
      ]
     },
     "metadata": {},
     "output_type": "display_data"
    }
   ],
   "source": [
    "x = symbols('x'); f= symbols('f', cls=Function)\n",
    "\n",
    "Inta=interact(asymptote_x, 関数='', 極限の確認=False, x軸に平行な漸近線=False)"
   ]
  },
  {
   "cell_type": "markdown",
   "metadata": {},
   "source": [
    "### (3) y軸に平行な漸近線を解答するための流れ\n",
    "\n",
    "　　**Step1.**　$x=c$において，次の2つを計算する．\n",
    "\n",
    "　　・$\\displaystyle \\lim_{x \\to c +0} f(x)$\n",
    "\n",
    "　　・$\\displaystyle \\lim_{x \\to c -0} f(x)$\n",
    "  \n",
    "　　　※ $c$の候補として，$\\displaystyle \\frac{1}{f(x)} = 0$の解や$f(x)$が発散する値がある．\n",
    "  \n",
    "　　**Step2.**　Step2の計算結果が次の4つのどれかに該当する場合，$x=c$は$y=f(x)$の$y$軸に平行な漸近線となる．\n",
    "\n",
    "　　・$\\displaystyle \\lim_{x \\to c +0} f(x) = + \\infty$\n",
    "\n",
    "　　・$\\displaystyle \\lim_{x \\to c +0} f(x) = - \\infty$\n",
    "\n",
    "　　・$\\displaystyle \\lim_{x \\to c -0} f(x) = + \\infty$\n",
    "\n",
    "　　・$\\displaystyle \\lim_{x \\to c -0} f(x) = - \\infty$\n",
    "  \n",
    "注意：自動出力される漸近線は，あくまでも漸近線の候補の一部であることに注意してください．与えられた候補に対して”候補の手動探索”操作を行い，判定すること．"
   ]
  },
  {
   "cell_type": "markdown",
   "metadata": {},
   "source": [
    "### ＝＝＝ $y$軸に平行な漸近線の自動計算プログラム＝＝＝"
   ]
  },
  {
   "cell_type": "code",
   "execution_count": 118,
   "metadata": {},
   "outputs": [],
   "source": [
    "#### y軸平行 ####\n",
    "x,y,u= symbols('x y u'); f, g, h= symbols('f g h', cls=Function)\n",
    "def asymptote_y(関数, 漸近線の候補,候補の手動探索,候補の自動探索): \n",
    "    if(候補の手動探索== True):\n",
    "        try:\n",
    "            f= simplify(sympify(関数))\n",
    "            x0 = simplify(漸近線の候補)\n",
    "            L1 = limit(f,x, x0,'+' )\n",
    "            L2 = limit(f,x, x0,'-' )\n",
    "        except:\n",
    "            print(\"関数・漸近線の候補を入力，または再入力\")  \n",
    "        \n",
    "        if( 1/L1 == 0 or 1/L2 == 0 ):\n",
    "            display( Math(r'\\qquad x=%sは，f(x)=%sが持つy軸に平行な漸近線である．' % (  latex( x0 ), latex(f)   )))   \n",
    "        else:\n",
    "            display( Math(r'\\qquad x=%sは，f(x)=%sが持つy軸に平行な漸近線ではない．' % (  latex( x0 ), latex(f)   )))   \n",
    "            \n",
    "    if(候補の自動探索 == True):\n",
    "        try:\n",
    "            f= simplify(sympify(関数))\n",
    "        except:\n",
    "            print(\"関数・漸近線の候補を入力，または再入力\")  \n",
    "\n",
    "        try:\n",
    "            display(Math(r' \\qquad [1]：\\frac{1}{f(x)}=0の解の探索'))\n",
    "            x00_4 = solve(  Eq( 0, simplify( 1/f ) ) , x)\n",
    "            for i in range(len(x00)):\n",
    "                display( Math(r'\\qquad \\qquad[%s]　x=%s' % ( i,latex(  x00_4[i-1] ))) )\n",
    "        except:\n",
    "            display(Math(r'\\qquad 探索失敗'))\n",
    "\n",
    "        try:\n",
    "            display(Math(r'\\qquad[2]：逆関数の極限による候補の探索'))\n",
    "            g0 = f.subs( x , u)\n",
    "            g = solve( Eq(x , g0 ),  u )\n",
    "            for i in range(len(g)):\n",
    "                h = simplify( g[i-1] ).subs(u,x) \n",
    "                #display( Math(r'\\qquad \\qquad  %s　%s　%s' % (  latex( f0 ), latex( g ), latex( h )   )    )   )\n",
    "                x00_1 =  simplify(limit( h , x , oo))\n",
    "                x00_2 =  simplify(limit( h , x , -oo))\n",
    "                display( Math(r'\\qquad \\qquad 漸近線の候補：x=%s,　x= %s' % ( latex(x00_1), latex(x00_2) ) )   )\n",
    "        except:\n",
    "            display(Math(r'\\qquad 探索失敗'))\n",
    "\n",
    "#f0=tan(x)\n",
    "#f0=1/(1-log(x))\n",
    "#f0 = (2*x +1)/(x-2)\n",
    "#f0 = (2**x +1)/(x**2 - 4)\n",
    "#f0 = (x**2 +1)/(3*x- 2*x**2 )\n",
    "#f0 =(x**12 - x**6 + 1)/(x**8 - 16*x**4 + 4)\n",
    "#f0 = sqrt( (x**3 - 3**3 )/( x + 3 ) )\n",
    "#latex( pi* Fraction(round(float( x00[0]/np.pi), 4)) ) "
   ]
  },
  {
   "cell_type": "code",
   "execution_count": 119,
   "metadata": {},
   "outputs": [
    {
     "data": {
      "application/vnd.jupyter.widget-view+json": {
       "model_id": "3364b0e5c95c48a48b6fb2529ee923c7",
       "version_major": 2,
       "version_minor": 0
      },
      "text/plain": [
       "interactive(children=(Text(value='', description='関数'), Text(value='0', description='漸近線の候補'), Checkbox(value=…"
      ]
     },
     "metadata": {},
     "output_type": "display_data"
    }
   ],
   "source": [
    "inta=interact(asymptote_y, 関数='', 漸近線の候補='0' ,候補の手動探索=False, 候補の自動探索=False)"
   ]
  },
  {
   "cell_type": "markdown",
   "metadata": {},
   "source": [
    "### (4) $y=ax+b$というタイプの漸近線を解答するための流れ\n",
    "　　**Step1.**　次の2つの極限を計算する．（$f(x)$の定義域を確認した上で，どちらを計算するのか判断する．）\n",
    "  \n",
    "　　・$\\displaystyle \\lim_{x \\to +\\infty} \\frac{f(x)}{x}$\n",
    "　　・$\\displaystyle \\lim_{x \\to -\\infty} \\frac{f(x)}{x}$\n",
    "   \n",
    "　　**Step2.**　Step1の極限があるゼロではない実数に収束する場合，その実数を$a$とする．（どちらか一方が収束すれば良い）\n",
    "\n",
    "　　・$\\displaystyle \\lim_{x \\to c +0} f(x)=a$または$\\displaystyle　\\lim_{x \\to c -0} f(x)=a$\n",
    "\n",
    "　　**Step3.**　次の2つの極限を計算する．\n",
    "\n",
    "　　・$\\displaystyle \\lim_{x \\to +\\infty} \\big\\{ f(x) - ax\\big\\}$\n",
    "\n",
    "　　・$\\displaystyle \\lim_{x \\to -\\infty} \\big\\{ f(x) - ax\\big\\}$\n",
    "  \n",
    "　　**Step4.**　Step3の極限がある実数に収束する場合，その実数を$b$とする．（どちらか一方が収束すれば良い）\n",
    "\n",
    "　　・$\\displaystyle \\lim_{x \\to +\\infty} \\big\\{ f(x) - ax\\big\\}=b$または$\\displaystyle \\lim_{x \\to -\\infty} \\big\\{ f(x) - ax\\big\\}=b$\n",
    "  \n",
    "\n",
    "　　**Step5.**　Step2と4の計算結果を用いて得られる直線$y=ax+b$は$y=f(x)$の漸近線となる．  \n",
    "  \n",
    "\n"
   ]
  },
  {
   "cell_type": "markdown",
   "metadata": {},
   "source": [
    "### ＝＝＝ $y=ax+b$というタイプの漸近線の自動計算プログラム＝＝＝"
   ]
  },
  {
   "cell_type": "code",
   "execution_count": 120,
   "metadata": {},
   "outputs": [],
   "source": [
    "#### その他 ####\n",
    "def asymptote_ax_b( 関数, 一次関数で与えられる漸近線, 途中計算 ):\n",
    "    if(一次関数で与えられる漸近線 == True ):\n",
    "        m=0\n",
    "        try:\n",
    "            f= simplify(sympify(関数))\n",
    "            for i in [-1,1]:\n",
    "                m=m+1\n",
    "                a = limit( f/x , x , i*oo)\n",
    "                b = limit( f-a*x,x, i*oo)\n",
    "        except:\n",
    "            print(\"関数を入力，または再入力\")  \n",
    "        else:\n",
    "            for i in [-1,1]:\n",
    "                m=m+1\n",
    "                a = limit( f/x , x , i*oo)\n",
    "                b = limit( f-a*x,x, i*oo)\n",
    "                if(途中計算 == True ) :\n",
    "                    display( Math(\n",
    "                            r'\\qquad \\qquad  [%s]：\\lim_{x \\to %s\\infty} \\frac{f(x)}{x}=%s,　\\lim_{x \\to %s\\infty} \\{f(x)-ax\\}=%s' % \n",
    "                            ( m, i, latex( a ) , i, latex( b ))\n",
    "                        ) ) \n",
    "\n",
    "                if ( a != 0 and a==1 ):\n",
    "                        display( Math(r'\\qquad \\qquad  その他の漸近線[%s]：y=%s'% ( m, latex( x+ b )   ))) \n",
    "                if ( a != 0 and a!=1 ):\n",
    "                        display( Math(r'\\qquad \\qquad  その他の漸近線[%s]：y=%s'% ( m, latex( a*x + b)   )))     \n",
    "                if ( a ==0 ):\n",
    "                    display(\"その他の漸近線なし\")"
   ]
  },
  {
   "cell_type": "code",
   "execution_count": 121,
   "metadata": {},
   "outputs": [
    {
     "data": {
      "application/vnd.jupyter.widget-view+json": {
       "model_id": "afd646adc45447faaa35367667e09dda",
       "version_major": 2,
       "version_minor": 0
      },
      "text/plain": [
       "interactive(children=(Text(value='', description='関数'), Checkbox(value=False, description='一次関数で与えられる漸近線'), Ch…"
      ]
     },
     "metadata": {},
     "output_type": "display_data"
    }
   ],
   "source": [
    "inta=interact(asymptote_ax_b, 関数='', 漸近線の候補='0' ,一次関数で与えられる漸近線=False, 途中計算=False)"
   ]
  },
  {
   "cell_type": "code",
   "execution_count": null,
   "metadata": {},
   "outputs": [],
   "source": []
  }
 ],
 "metadata": {
  "kernelspec": {
   "display_name": "Python 3",
   "language": "python",
   "name": "python3"
  },
  "language_info": {
   "codemirror_mode": {
    "name": "ipython",
    "version": 3
   },
   "file_extension": ".py",
   "mimetype": "text/x-python",
   "name": "python",
   "nbconvert_exporter": "python",
   "pygments_lexer": "ipython3",
   "version": "3.7.4"
  }
 },
 "nbformat": 4,
 "nbformat_minor": 2
}
