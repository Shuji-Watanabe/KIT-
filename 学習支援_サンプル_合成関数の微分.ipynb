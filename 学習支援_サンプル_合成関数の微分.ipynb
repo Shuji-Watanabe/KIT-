{
 "cells": [
  {
   "cell_type": "code",
   "execution_count": 5,
   "metadata": {
    "scrolled": true
   },
   "outputs": [
    {
     "data": {
      "text/html": [
       "\n",
       "<button id=\"code-show-switch-btn\">スクリプトを表示する</button>\n",
       "\n",
       "<script>\n",
       "var code_show = true;\n",
       "$(\"div.input\").hide();\n",
       "\n",
       "function switch_display_setting() {\n",
       "    var switch_btn = $(\"#code-show-switch-btn\");\n",
       "    if (code_show) {\n",
       "        $(\"div.input\").hide();\n",
       "        code_show = false;\n",
       "        switch_btn.text(\"スクリプトを表示する\");\n",
       "    }else{\n",
       "        $(\"div.input\").show();\n",
       "        code_show = true;\n",
       "        switch_btn.text(\"スクリプトを非表示にする\");\n",
       "    }\n",
       "}\n",
       "\n",
       "$(\"#code-show-switch-btn\").click(switch_display_setting);\n",
       "</script>\n"
      ],
      "text/plain": [
       "<IPython.core.display.HTML object>"
      ]
     },
     "execution_count": 5,
     "metadata": {},
     "output_type": "execute_result"
    }
   ],
   "source": [
    "from IPython.display import HTML\n",
    "\n",
    "HTML(\"\"\"\n",
    "<button id=\"code-show-switch-btn\">スクリプトを表示する</button>\n",
    "\n",
    "<script>\n",
    "var code_show = true;\n",
    "$(\"div.input\").hide();\n",
    "\n",
    "function switch_display_setting() {\n",
    "    var switch_btn = $(\"#code-show-switch-btn\");\n",
    "    if (code_show) {\n",
    "        $(\"div.input\").hide();\n",
    "        code_show = false;\n",
    "        switch_btn.text(\"スクリプトを表示する\");\n",
    "    }else{\n",
    "        $(\"div.input\").show();\n",
    "        code_show = true;\n",
    "        switch_btn.text(\"スクリプトを非表示にする\");\n",
    "    }\n",
    "}\n",
    "\n",
    "$(\"#code-show-switch-btn\").click(switch_display_setting);\n",
    "</script>\n",
    "\"\"\")"
   ]
  },
  {
   "cell_type": "code",
   "execution_count": 6,
   "metadata": {},
   "outputs": [],
   "source": [
    "#使用モジュール等のインポート\n",
    "import numpy as np\n",
    "from sympy import *\n",
    "from sympy.solvers import solve\n",
    "from IPython.display import Math,Markdown,clear_output,YouTubeVideo\n",
    "from ipywidgets import interact, interactive_output, HBox, VBox\n",
    "from ipywidgets import widgets,Button, IntSlider, Text, Checkbox\n",
    "from scipy import optimize, exp"
   ]
  },
  {
   "cell_type": "code",
   "execution_count": 7,
   "metadata": {},
   "outputs": [],
   "source": [
    "#日本ソフトウェア科学会第 33 回大会 (2016 年度) 講演論文集:数学的記号処理システムを用いたソフトウェアの構成手法より\n",
    "#\n",
    "def md(*args):\n",
    "    s = ''\n",
    "    for x in args:\n",
    "        if (isinstance(x, Basic) or isinstance(x, MutableDenseMatrix) or isinstance(x,tuple)):\n",
    "            s += latex( sympify(x))\n",
    "        elif isinstance(x,np.ndarray): \n",
    "            s += latex(Matrix(x))\n",
    "        elif (isinstance(x, str)): \n",
    "            s += x\n",
    "        elif (isinstance(x, int) or isinstance(x, float)): \n",
    "            s += str(x)\n",
    "        else: print(type(x))\n",
    "    return s\n",
    "\n",
    "\n",
    "# その他：中央寄せ: center 右寄せ: right 左寄せ: left\n",
    "def Centering( x ):\n",
    "    s = '<div style=\"text-align: center;\">$\\displaystyle'\n",
    "    s += str(x)\n",
    "    s += '$</div>'\n",
    "    return s"
   ]
  },
  {
   "cell_type": "markdown",
   "metadata": {},
   "source": [
    "# 演習サポートプログラム：サンプル\n",
    "\n",
    "#### 【使い方】\n",
    "- \"調べたい関数とuとする式の入力\"の各ボックスに，１）微分したい関数，２）$u$と置きたい関数を入力する．\n",
    "- 入力した関数に関して，知りたい情報のチェックボックスをクリックし，その内容を確認する．\n",
    "\n",
    "#### 【追加情報】\n",
    "- 合成関数の微分については，「工学のための数理工」の教科書p101を確認する．\n",
    "- 合成関数の微分に関する動画はこちらを確認：https://www.youtube.com/watch?v=Mqh2NAaXh54\n"
   ]
  },
  {
   "cell_type": "code",
   "execution_count": 8,
   "metadata": {
    "scrolled": false
   },
   "outputs": [
    {
     "data": {
      "text/markdown": [
       "### 調べたい関数とuとする式の入力"
      ],
      "text/plain": [
       "<IPython.core.display.Markdown object>"
      ]
     },
     "metadata": {},
     "output_type": "display_data"
    },
    {
     "data": {
      "application/vnd.jupyter.widget-view+json": {
       "model_id": "b2e7a24cda6246a2827c03f94715d8c0",
       "version_major": 2,
       "version_minor": 0
      },
      "text/plain": [
       "HBox(children=(Text(value='(x^2+x+1)^5', description='$f(x)=$', layout=Layout(width='190px'), placeholder='微分す…"
      ]
     },
     "metadata": {},
     "output_type": "display_data"
    },
    {
     "data": {
      "text/markdown": [
       "### \"合成関数の微分\"の実行"
      ],
      "text/plain": [
       "<IPython.core.display.Markdown object>"
      ]
     },
     "metadata": {},
     "output_type": "display_data"
    },
    {
     "data": {
      "application/vnd.jupyter.widget-view+json": {
       "model_id": "45ec89af9ef643f8b6258c276979593e",
       "version_major": 2,
       "version_minor": 0
      },
      "text/plain": [
       "HBox(children=(Checkbox(value=False, description='\\u3000\"解説動画\"の表示', indent=False), Checkbox(value=False, descr…"
      ]
     },
     "metadata": {},
     "output_type": "display_data"
    },
    {
     "data": {
      "application/vnd.jupyter.widget-view+json": {
       "model_id": "8885e61afb97456895876aca20efe7f2",
       "version_major": 2,
       "version_minor": 0
      },
      "text/plain": [
       "Output()"
      ]
     },
     "metadata": {},
     "output_type": "display_data"
    }
   ],
   "source": [
    "def Cal_diff(Input_f,Input_u):\n",
    "    x,u = symbols('x u')\n",
    "    f = sympify(Input_f) ; ff = sympify(Input_u)\n",
    "    v = solve( Eq(ff,u),x)\n",
    "    f_u = simplify(f.subs(x, v[0]))\n",
    "    diff_f_u = diff(f_u,u)\n",
    "    diff_u = diff(ff,x)\n",
    "    diff_fu_x = diff_f_u.subs(u,ff)\n",
    "    diff_f = simplify(diff_fu_x*diff_u)\n",
    "    return f_u,diff_f_u,diff_u,diff_fu_x,diff_f\n",
    "\n",
    "def Support_Exercise(Input_f,Input_u,CB_00,CB_01,CB_02,CB_03):\n",
    "    try:\n",
    "        f = sympify(Input_f) ; ff = sympify(Input_u)\n",
    "        Cal_F = []\n",
    "        Cal_F = Cal_diff(Input_f,Input_u)\n",
    "    except:\n",
    "        display(Math(\"関数や$u$の入力または際入力\"))\n",
    "    else:\n",
    "        document01= md( '#### <body>&check;</body> 解答の方針 \\n\\n'\n",
    "                        '　(1)　$\\displaystyle f(x)=',f,'$','の一部を$u$と置く．\\n\\n',\n",
    "                        '　(2)　合成関数の微分',\n",
    "                        '$\\displaystyle \\\\frac{df(u)}{du} \\cdot \\\\frac{du}{dx}$',\n",
    "                        'を利用することで',\n",
    "                        '　$\\displaystyle \\\\frac{df(x)}{dx}$を求める．',\n",
    "                        '\\n\\n'\n",
    "                      )\n",
    "        document02= md('#### <body>&check;</body> 途中計算\\n\\n',\n",
    "                        '　(1)　$\\displaystyle f(x)=',f,'$の$',ff,'$を$u$とする．\\n\\n',\n",
    "                        '　(2)　$\\displaystyle f(u)=',Cal_F[0],'$，$u=',ff,'$\\n\\n',                       \n",
    "                        '　(3)　$\\displaystyle \\\\frac{df(u)}{du} \\cdot \\\\frac{du}{dx}\\ =\\ ',\n",
    "                            '\\\\frac{d}{du} \\\\left\\\\{',Cal_F[0],'\\\\right\\}\\cdot',\n",
    "                            '\\\\frac{d}{dx} \\\\left\\\\{',ff,'\\\\right\\}',\n",
    "                            '\\ =\\ ',\n",
    "                              Cal_F[1],' \\cdot ',Cal_F[2],\n",
    "                            '\\ =\\ ',\n",
    "                              Cal_F[3],' \\cdot ',Cal_F[2], \n",
    "                            '\\ =\\ ',\n",
    "                              Cal_F[4],\n",
    "                            '$'\n",
    "                        )\n",
    "        document03= md('#### <body>&check;</body> 解答(最終結果)\\n\\n',\n",
    "                       '　　$\\displaystyle \\\\frac{df(x)}{dx} \\ =\\ ', Cal_F[4], '$\\n\\n',\n",
    "                       '　　 <font color=\"red\">\\\n",
    "                             注意：最終結果については，適切に展開または因数分解等を行うこと．\\\n",
    "                            </font>'\n",
    "                      )\n",
    "        if( CB_00 == True ):\n",
    "            display(YouTubeVideo('Mqh2NAaXh54'))\n",
    "        if( CB_01 == True ):\n",
    "            display( Markdown(document01) )\n",
    "        if( CB_02 == True ):\n",
    "            display( Markdown(document02) )\n",
    "        if( CB_03 == True ):\n",
    "            display( Markdown(document03) )\n",
    "    \n",
    "\n",
    "L01={'width': '190px'}\n",
    "Function=Text(value='(x^2+x+1)^5',placeholder='微分する関数',description=\"$f(x)=$\",layout=L01)\n",
    "Var_u=Text(value='x^2+x+1',placeholder='uとおく式',description=\"$u=$\",layout=L01)\n",
    "Var_CB = []\n",
    "Var_CB.append(Checkbox(value = False , description = '　\"解説動画\"の表示' , indent=False))\n",
    "Var_CB.append(Checkbox(value = False , description = '　\"解答の方針\"の表示' , indent=False))\n",
    "Var_CB.append(Checkbox(value = False , description = '　\"途中計算\"の表示' , indent=False))\n",
    "Var_CB.append(Checkbox(value = False , description = '　\"解答（最終結果）\"の表示' , indent=False))\n",
    "\n",
    "\n",
    "Out_deriv_Composite_f=interactive_output(\n",
    "                            Support_Exercise,\n",
    "                            {\n",
    "                             \"Input_f\":Function,\n",
    "                             \"Input_u\":Var_u,\n",
    "                             \"CB_00\":Var_CB[0],\n",
    "                             \"CB_01\":Var_CB[1],\n",
    "                             \"CB_02\":Var_CB[2],\n",
    "                             \"CB_03\":Var_CB[3]\n",
    "                            }\n",
    "                        )\n",
    "display( Markdown('### 調べたい関数とuとする式の入力') )\n",
    "display(HBox([Function,Var_u]))\n",
    "display( Markdown('### \"合成関数の微分\"の実行') )\n",
    "display(HBox(Var_CB))\n",
    "display(Out_deriv_Composite_f)\n",
    "\n",
    "\n"
   ]
  },
  {
   "cell_type": "code",
   "execution_count": null,
   "metadata": {},
   "outputs": [],
   "source": []
  }
 ],
 "metadata": {
  "kernelspec": {
   "display_name": "Python 3",
   "language": "python",
   "name": "python3"
  },
  "language_info": {
   "codemirror_mode": {
    "name": "ipython",
    "version": 3
   },
   "file_extension": ".py",
   "mimetype": "text/x-python",
   "name": "python",
   "nbconvert_exporter": "python",
   "pygments_lexer": "ipython3",
   "version": "3.7.4"
  }
 },
 "nbformat": 4,
 "nbformat_minor": 2
}
